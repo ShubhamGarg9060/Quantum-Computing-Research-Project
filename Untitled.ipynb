{
 "cells": [
  {
   "cell_type": "code",
   "execution_count": 5,
   "metadata": {},
   "outputs": [
    {
     "name": "stdout",
     "output_type": "stream",
     "text": [
      "Requirement already satisfied: pyquil in c:\\users\\hp\\anaconda3\\lib\\site-packages (3.3.3)\n",
      "Requirement already satisfied: types-retry<0.10.0,>=0.9.9 in c:\\users\\hp\\anaconda3\\lib\\site-packages (from pyquil) (0.9.9.2)\n",
      "Requirement already satisfied: retry<0.10.0,>=0.9.2 in c:\\users\\hp\\anaconda3\\lib\\site-packages (from pyquil) (0.9.2)\n",
      "Requirement already satisfied: rpcq<4.0.0,>=3.10.0 in c:\\users\\hp\\anaconda3\\lib\\site-packages (from pyquil) (3.10.0)\n",
      "Requirement already satisfied: lark<0.12.0,>=0.11.1 in c:\\users\\hp\\anaconda3\\lib\\site-packages (from pyquil) (0.11.3)\n",
      "Requirement already satisfied: types-python-dateutil<3.0.0,>=2.8.19 in c:\\users\\hp\\anaconda3\\lib\\site-packages (from pyquil) (2.8.19.10)\n",
      "Requirement already satisfied: numpy<2.0,>=1.21 in c:\\users\\hp\\anaconda3\\lib\\site-packages (from pyquil) (1.21.0)\n",
      "Requirement already satisfied: networkx<3.0,>=2.5 in c:\\users\\hp\\anaconda3\\lib\\site-packages (from pyquil) (2.5)\n",
      "Requirement already satisfied: scipy<2.0.0,>=1.6.1 in c:\\users\\hp\\anaconda3\\lib\\site-packages (from pyquil) (1.10.1)\n",
      "Requirement already satisfied: qcs-api-client<0.22.0,>=0.21.0 in c:\\users\\hp\\anaconda3\\lib\\site-packages (from pyquil) (0.21.3)\n",
      "Requirement already satisfied: decorator>=3.4.2 in c:\\users\\hp\\anaconda3\\lib\\site-packages (from retry<0.10.0,>=0.9.2->pyquil) (4.4.2)\n",
      "Requirement already satisfied: py<2.0.0,>=1.4.26 in c:\\users\\hp\\anaconda3\\lib\\site-packages (from retry<0.10.0,>=0.9.2->pyquil) (1.9.0)\n",
      "Requirement already satisfied: msgpack<1.0,>=0.6 in c:\\users\\hp\\anaconda3\\lib\\site-packages (from rpcq<4.0.0,>=3.10.0->pyquil) (0.6.2)\n",
      "Requirement already satisfied: python-rapidjson in c:\\users\\hp\\anaconda3\\lib\\site-packages (from rpcq<4.0.0,>=3.10.0->pyquil) (1.9)\n",
      "Requirement already satisfied: pyzmq>=17 in c:\\users\\hp\\anaconda3\\lib\\site-packages (from rpcq<4.0.0,>=3.10.0->pyquil) (19.0.2)\n",
      "Requirement already satisfied: ruamel.yaml in c:\\users\\hp\\anaconda3\\lib\\site-packages (from rpcq<4.0.0,>=3.10.0->pyquil) (0.15.87)\n",
      "Requirement already satisfied: rfc3339<7.0,>=6.2 in c:\\users\\hp\\anaconda3\\lib\\site-packages (from qcs-api-client<0.22.0,>=0.21.0->pyquil) (6.2)\n",
      "Requirement already satisfied: httpx<0.24.0,>=0.23.0 in c:\\users\\hp\\anaconda3\\lib\\site-packages (from qcs-api-client<0.22.0,>=0.21.0->pyquil) (0.23.3)\n",
      "Requirement already satisfied: pydantic<2.0.0,>=1.7.2 in c:\\users\\hp\\anaconda3\\lib\\site-packages (from qcs-api-client<0.22.0,>=0.21.0->pyquil) (1.10.6)\n",
      "Requirement already satisfied: attrs<22.0.0,>=21.3.0 in c:\\users\\hp\\anaconda3\\lib\\site-packages (from qcs-api-client<0.22.0,>=0.21.0->pyquil) (21.4.0)\n",
      "Requirement already satisfied: iso8601<2.0.0,>=1.0.2 in c:\\users\\hp\\anaconda3\\lib\\site-packages (from qcs-api-client<0.22.0,>=0.21.0->pyquil) (1.1.0)\n",
      "Requirement already satisfied: toml<0.11.0,>=0.10.2 in c:\\users\\hp\\anaconda3\\lib\\site-packages (from qcs-api-client<0.22.0,>=0.21.0->pyquil) (0.10.2)\n",
      "Requirement already satisfied: PyJWT<3.0.0,>=2.4.0 in c:\\users\\hp\\anaconda3\\lib\\site-packages (from qcs-api-client<0.22.0,>=0.21.0->pyquil) (2.6.0)\n",
      "Requirement already satisfied: retrying<2.0.0,>=1.3.3 in c:\\users\\hp\\anaconda3\\lib\\site-packages (from qcs-api-client<0.22.0,>=0.21.0->pyquil) (1.3.3)\n",
      "Requirement already satisfied: python-dateutil<3.0.0,>=2.8.1 in c:\\users\\hp\\anaconda3\\lib\\site-packages (from qcs-api-client<0.22.0,>=0.21.0->pyquil) (2.8.1)\n",
      "Requirement already satisfied: httpcore<0.17.0,>=0.15.0 in c:\\users\\hp\\anaconda3\\lib\\site-packages (from httpx<0.24.0,>=0.23.0->qcs-api-client<0.22.0,>=0.21.0->pyquil) (0.16.3)\n",
      "Requirement already satisfied: certifi in c:\\users\\hp\\anaconda3\\lib\\site-packages (from httpx<0.24.0,>=0.23.0->qcs-api-client<0.22.0,>=0.21.0->pyquil) (2020.6.20)\n",
      "Requirement already satisfied: sniffio in c:\\users\\hp\\anaconda3\\lib\\site-packages (from httpx<0.24.0,>=0.23.0->qcs-api-client<0.22.0,>=0.21.0->pyquil) (1.3.0)\n",
      "Requirement already satisfied: rfc3986[idna2008]<2,>=1.3 in c:\\users\\hp\\anaconda3\\lib\\site-packages (from httpx<0.24.0,>=0.23.0->qcs-api-client<0.22.0,>=0.21.0->pyquil) (1.5.0)\n",
      "Requirement already satisfied: typing-extensions>=4.2.0 in c:\\users\\hp\\anaconda3\\lib\\site-packages (from pydantic<2.0.0,>=1.7.2->qcs-api-client<0.22.0,>=0.21.0->pyquil) (4.5.0)\n",
      "Requirement already satisfied: six>=1.7.0 in c:\\users\\hp\\anaconda3\\lib\\site-packages (from retrying<2.0.0,>=1.3.3->qcs-api-client<0.22.0,>=0.21.0->pyquil) (1.15.0)\n",
      "Requirement already satisfied: anyio<5.0,>=3.0 in c:\\users\\hp\\anaconda3\\lib\\site-packages (from httpcore<0.17.0,>=0.15.0->httpx<0.24.0,>=0.23.0->qcs-api-client<0.22.0,>=0.21.0->pyquil) (3.6.2)\n",
      "Requirement already satisfied: h11<0.15,>=0.13 in c:\\users\\hp\\anaconda3\\lib\\site-packages (from httpcore<0.17.0,>=0.15.0->httpx<0.24.0,>=0.23.0->qcs-api-client<0.22.0,>=0.21.0->pyquil) (0.14.0)\n",
      "Requirement already satisfied: idna; extra == \"idna2008\" in c:\\users\\hp\\anaconda3\\lib\\site-packages (from rfc3986[idna2008]<2,>=1.3->httpx<0.24.0,>=0.23.0->qcs-api-client<0.22.0,>=0.21.0->pyquil) (2.10)\n",
      "Note: you may need to restart the kernel to use updated packages.\n"
     ]
    }
   ],
   "source": [
    "pip install pyquil"
   ]
  },
  {
   "cell_type": "code",
   "execution_count": 6,
   "metadata": {},
   "outputs": [
    {
     "ename": "SyntaxError",
     "evalue": "invalid syntax (<ipython-input-6-84d57549f666>, line 1)",
     "output_type": "error",
     "traceback": [
      "\u001b[1;36m  File \u001b[1;32m\"<ipython-input-6-84d57549f666>\"\u001b[1;36m, line \u001b[1;32m1\u001b[0m\n\u001b[1;33m    pip install ruamel_yaml==0.11.14\u001b[0m\n\u001b[1;37m        ^\u001b[0m\n\u001b[1;31mSyntaxError\u001b[0m\u001b[1;31m:\u001b[0m invalid syntax\n"
     ]
    }
   ],
   "source": [
    "pip install ruamel_yaml==0.11.14\n",
    "qvm = forest.Connection()"
   ]
  },
  {
   "cell_type": "code",
   "execution_count": 7,
   "metadata": {},
   "outputs": [
    {
     "ename": "ModuleNotFoundError",
     "evalue": "No module named 'ruamel'",
     "output_type": "error",
     "traceback": [
      "\u001b[1;31m---------------------------------------------------------------------------\u001b[0m",
      "\u001b[1;31mModuleNotFoundError\u001b[0m                       Traceback (most recent call last)",
      "\u001b[1;32m<ipython-input-7-dbc351abd7f6>\u001b[0m in \u001b[0;36m<module>\u001b[1;34m\u001b[0m\n\u001b[1;32m----> 1\u001b[1;33m \u001b[1;32mimport\u001b[0m \u001b[0mpyquil\u001b[0m \u001b[1;32mas\u001b[0m \u001b[0mpq\u001b[0m\u001b[1;33m\u001b[0m\u001b[1;33m\u001b[0m\u001b[0m\n\u001b[0m\u001b[0;32m      2\u001b[0m \u001b[1;32mfrom\u001b[0m \u001b[0mpyquil\u001b[0m\u001b[1;33m.\u001b[0m\u001b[0mquil\u001b[0m \u001b[1;32mimport\u001b[0m \u001b[0mProgram\u001b[0m\u001b[1;33m\u001b[0m\u001b[1;33m\u001b[0m\u001b[0m\n\u001b[0;32m      3\u001b[0m \u001b[1;32mfrom\u001b[0m \u001b[0mpyquil\u001b[0m\u001b[1;33m.\u001b[0m\u001b[0mgates\u001b[0m \u001b[1;32mimport\u001b[0m \u001b[1;33m*\u001b[0m\u001b[1;33m\u001b[0m\u001b[1;33m\u001b[0m\u001b[0m\n\u001b[0;32m      4\u001b[0m \u001b[1;31m#import pyquil.forest as forest\u001b[0m\u001b[1;33m\u001b[0m\u001b[1;33m\u001b[0m\u001b[1;33m\u001b[0m\u001b[0m\n",
      "\u001b[1;32m~\\anaconda3\\lib\\site-packages\\pyquil\\__init__.py\u001b[0m in \u001b[0;36m<module>\u001b[1;34m\u001b[0m\n\u001b[0;32m      1\u001b[0m \u001b[1;32mfrom\u001b[0m \u001b[0mpyquil\u001b[0m\u001b[1;33m.\u001b[0m\u001b[0m_version\u001b[0m \u001b[1;32mimport\u001b[0m \u001b[0mpyquil_version\u001b[0m\u001b[1;33m\u001b[0m\u001b[1;33m\u001b[0m\u001b[0m\n\u001b[1;32m----> 2\u001b[1;33m \u001b[1;32mfrom\u001b[0m \u001b[0mpyquil\u001b[0m\u001b[1;33m.\u001b[0m\u001b[0mquil\u001b[0m \u001b[1;32mimport\u001b[0m \u001b[0mProgram\u001b[0m\u001b[1;33m\u001b[0m\u001b[1;33m\u001b[0m\u001b[0m\n\u001b[0m\u001b[0;32m      3\u001b[0m \u001b[1;32mfrom\u001b[0m \u001b[0mpyquil\u001b[0m\u001b[1;33m.\u001b[0m\u001b[0mapi\u001b[0m \u001b[1;32mimport\u001b[0m \u001b[0mlist_quantum_computers\u001b[0m\u001b[1;33m,\u001b[0m \u001b[0mget_qc\u001b[0m\u001b[1;33m\u001b[0m\u001b[1;33m\u001b[0m\u001b[0m\n\u001b[0;32m      4\u001b[0m \u001b[1;33m\u001b[0m\u001b[0m\n\u001b[0;32m      5\u001b[0m \u001b[0m__version__\u001b[0m \u001b[1;33m=\u001b[0m \u001b[0mpyquil_version\u001b[0m\u001b[1;33m\u001b[0m\u001b[1;33m\u001b[0m\u001b[0m\n",
      "\u001b[1;32m~\\anaconda3\\lib\\site-packages\\pyquil\\quil.py\u001b[0m in \u001b[0;36m<module>\u001b[1;34m\u001b[0m\n\u001b[0;32m     38\u001b[0m \u001b[1;33m\u001b[0m\u001b[0m\n\u001b[0;32m     39\u001b[0m \u001b[1;32mimport\u001b[0m \u001b[0mnumpy\u001b[0m \u001b[1;32mas\u001b[0m \u001b[0mnp\u001b[0m\u001b[1;33m\u001b[0m\u001b[1;33m\u001b[0m\u001b[0m\n\u001b[1;32m---> 40\u001b[1;33m \u001b[1;32mfrom\u001b[0m \u001b[0mrpcq\u001b[0m\u001b[1;33m.\u001b[0m\u001b[0mmessages\u001b[0m \u001b[1;32mimport\u001b[0m \u001b[0mNativeQuilMetadata\u001b[0m\u001b[1;33m,\u001b[0m \u001b[0mParameterAref\u001b[0m\u001b[1;33m\u001b[0m\u001b[1;33m\u001b[0m\u001b[0m\n\u001b[0m\u001b[0;32m     41\u001b[0m \u001b[1;33m\u001b[0m\u001b[0m\n\u001b[0;32m     42\u001b[0m \u001b[1;32mfrom\u001b[0m \u001b[0mpyquil\u001b[0m\u001b[1;33m.\u001b[0m\u001b[0m_parser\u001b[0m\u001b[1;33m.\u001b[0m\u001b[0mparser\u001b[0m \u001b[1;32mimport\u001b[0m \u001b[0mrun_parser\u001b[0m\u001b[1;33m\u001b[0m\u001b[1;33m\u001b[0m\u001b[0m\n",
      "\u001b[1;32m~\\anaconda3\\lib\\site-packages\\rpcq\\__init__.py\u001b[0m in \u001b[0;36m<module>\u001b[1;34m\u001b[0m\n\u001b[1;32m----> 1\u001b[1;33m \u001b[1;32mfrom\u001b[0m \u001b[0mrpcq\u001b[0m\u001b[1;33m.\u001b[0m\u001b[0m_client\u001b[0m \u001b[1;32mimport\u001b[0m \u001b[0mClient\u001b[0m\u001b[1;33m,\u001b[0m \u001b[0mClientAuthConfig\u001b[0m\u001b[1;33m\u001b[0m\u001b[1;33m\u001b[0m\u001b[0m\n\u001b[0m\u001b[0;32m      2\u001b[0m \u001b[1;32mfrom\u001b[0m \u001b[0mrpcq\u001b[0m\u001b[1;33m.\u001b[0m\u001b[0m_server\u001b[0m \u001b[1;32mimport\u001b[0m \u001b[0mServer\u001b[0m\u001b[1;33m,\u001b[0m \u001b[0mServerAuthConfig\u001b[0m\u001b[1;33m\u001b[0m\u001b[1;33m\u001b[0m\u001b[0m\n\u001b[0;32m      3\u001b[0m \u001b[1;31m# These are imported so that the corresponding data classes are\u001b[0m\u001b[1;33m\u001b[0m\u001b[1;33m\u001b[0m\u001b[1;33m\u001b[0m\u001b[0m\n\u001b[0;32m      4\u001b[0m \u001b[1;31m# registered whenever rpcq is imported. Without which one would have\u001b[0m\u001b[1;33m\u001b[0m\u001b[1;33m\u001b[0m\u001b[1;33m\u001b[0m\u001b[0m\n\u001b[0;32m      5\u001b[0m \u001b[1;31m# to import the messages and core_messages modules directly before\u001b[0m\u001b[1;33m\u001b[0m\u001b[1;33m\u001b[0m\u001b[1;33m\u001b[0m\u001b[0m\n",
      "\u001b[1;32m~\\anaconda3\\lib\\site-packages\\rpcq\\_client.py\u001b[0m in \u001b[0;36m<module>\u001b[1;34m\u001b[0m\n\u001b[0;32m     24\u001b[0m \u001b[1;32mimport\u001b[0m \u001b[0mzmq\u001b[0m\u001b[1;33m.\u001b[0m\u001b[0masyncio\u001b[0m\u001b[1;33m\u001b[0m\u001b[1;33m\u001b[0m\u001b[0m\n\u001b[0;32m     25\u001b[0m \u001b[1;33m\u001b[0m\u001b[0m\n\u001b[1;32m---> 26\u001b[1;33m \u001b[1;32mfrom\u001b[0m \u001b[0mrpcq\u001b[0m\u001b[1;33m.\u001b[0m\u001b[0m_base\u001b[0m \u001b[1;32mimport\u001b[0m \u001b[0mto_msgpack\u001b[0m\u001b[1;33m,\u001b[0m \u001b[0mfrom_msgpack\u001b[0m\u001b[1;33m\u001b[0m\u001b[1;33m\u001b[0m\u001b[0m\n\u001b[0m\u001b[0;32m     27\u001b[0m \u001b[1;32mimport\u001b[0m \u001b[0mrpcq\u001b[0m\u001b[1;33m.\u001b[0m\u001b[0m_utils\u001b[0m \u001b[1;32mas\u001b[0m \u001b[0mutils\u001b[0m\u001b[1;33m\u001b[0m\u001b[1;33m\u001b[0m\u001b[0m\n\u001b[0;32m     28\u001b[0m \u001b[1;32mfrom\u001b[0m \u001b[0mrpcq\u001b[0m\u001b[1;33m.\u001b[0m\u001b[0mmessages\u001b[0m \u001b[1;32mimport\u001b[0m \u001b[0mRPCError\u001b[0m\u001b[1;33m,\u001b[0m \u001b[0mRPCReply\u001b[0m\u001b[1;33m\u001b[0m\u001b[1;33m\u001b[0m\u001b[0m\n",
      "\u001b[1;32m~\\anaconda3\\lib\\site-packages\\rpcq\\_base.py\u001b[0m in \u001b[0;36m<module>\u001b[1;34m\u001b[0m\n\u001b[0;32m     20\u001b[0m \u001b[1;32mimport\u001b[0m \u001b[0mmsgpack\u001b[0m\u001b[1;33m\u001b[0m\u001b[1;33m\u001b[0m\u001b[0m\n\u001b[0;32m     21\u001b[0m \u001b[1;32mimport\u001b[0m \u001b[0mrapidjson\u001b[0m\u001b[1;33m\u001b[0m\u001b[1;33m\u001b[0m\u001b[0m\n\u001b[1;32m---> 22\u001b[1;33m \u001b[1;32mfrom\u001b[0m \u001b[0mruamel\u001b[0m \u001b[1;32mimport\u001b[0m \u001b[0myaml\u001b[0m\u001b[1;33m\u001b[0m\u001b[1;33m\u001b[0m\u001b[0m\n\u001b[0m\u001b[0;32m     23\u001b[0m \u001b[1;33m\u001b[0m\u001b[0m\n\u001b[0;32m     24\u001b[0m \u001b[1;32mif\u001b[0m \u001b[0msys\u001b[0m\u001b[1;33m.\u001b[0m\u001b[0mversion_info\u001b[0m \u001b[1;33m<\u001b[0m \u001b[1;33m(\u001b[0m\u001b[1;36m3\u001b[0m\u001b[1;33m,\u001b[0m \u001b[1;36m7\u001b[0m\u001b[1;33m)\u001b[0m\u001b[1;33m:\u001b[0m\u001b[1;33m\u001b[0m\u001b[1;33m\u001b[0m\u001b[0m\n",
      "\u001b[1;31mModuleNotFoundError\u001b[0m: No module named 'ruamel'"
     ]
    }
   ],
   "source": [
    "import pyquil as pq\n",
    "from pyquil.quil import Program\n",
    "from pyquil.gates import *\n",
    "import pyquil.forest as forest"
   ]
  },
  {
   "cell_type": "code",
   "execution_count": null,
   "metadata": {
    "scrolled": false
   },
   "outputs": [],
   "source": [
    "# Select the lattice of Qubits\n",
    "lattice = \"Aspen-1-5Q-B\"\n",
    "\n",
    "# Initialise QPU\n",
    "qpu = pq.get_qc('2q-qvm')"
   ]
  },
  {
   "cell_type": "code",
   "execution_count": null,
   "metadata": {},
   "outputs": [],
   "source": [
    "#Place electron 0 into superposition\n",
    "numbers = Program(H(0))\n",
    "#Observe the superposition\n",
    "getNum = numbers.measure_all()\n",
    "#Print the Quantum Assembly Language\n",
    "print(getNum)"
   ]
  },
  {
   "cell_type": "code",
   "execution_count": null,
   "metadata": {},
   "outputs": [],
   "source": [
    "compiled_program = qpu.compile(numbers)"
   ]
  },
  {
   "cell_type": "code",
   "execution_count": null,
   "metadata": {},
   "outputs": [],
   "source": [
    "#Length of integer to generate\n",
    "numbers = 32\n",
    "#How many integers to generate\n",
    "toGenerate = 1"
   ]
  },
  {
   "cell_type": "code",
   "execution_count": null,
   "metadata": {},
   "outputs": [],
   "source": [
    "print(\"\\n Random number of \" + str(numbers) + \" bits:\")"
   ]
  },
  {
   "cell_type": "code",
   "execution_count": null,
   "metadata": {},
   "outputs": [],
   "source": [
    "for y in range(0, 10000):\n",
    "    output = \"\"\n",
    "    for x in range(0, toGenerate):\n",
    "        #Run the code on a Quantum Processing Unit\n",
    "        result = qpu.run(compiled_program)\n",
    "        \n",
    "        #Observe the superposition\n",
    "        result = result[0][0]\n",
    "        \n",
    "        output += str(result)\n",
    "        \n",
    "    print(\"\\n\\n Random no.\" + str(y) + \" is: \" + output)\n",
    "    \n",
    "    decimal = int(output, 2)\n",
    "    \n",
    "    with open(\"numbers.txt\", \"a\") as myfile:\n",
    "        myfile.write(\"\\n\" + str(decimal))\n",
    "    with open(\"random.csv\", \"a\") as myfile:\n",
    "        myfile.write(\"\\n\" + str(output) + \",\" + str(decimal))"
   ]
  }
 ],
 "metadata": {
  "kernelspec": {
   "display_name": "Python 3",
   "language": "python",
   "name": "python3"
  },
  "language_info": {
   "codemirror_mode": {
    "name": "ipython",
    "version": 3
   },
   "file_extension": ".py",
   "mimetype": "text/x-python",
   "name": "python",
   "nbconvert_exporter": "python",
   "pygments_lexer": "ipython3",
   "version": "3.8.5"
  }
 },
 "nbformat": 4,
 "nbformat_minor": 4
}
