{
 "cells": [
  {
   "cell_type": "markdown",
   "metadata": {
    "editable": false,
    "id": "ULOWEMyG8XrM"
   },
   "source": [
    "Import basic libraries."
   ]
  },
  {
   "cell_type": "code",
   "execution_count": null,
   "metadata": {
    "colab": {
     "base_uri": "https://localhost:8080/"
    },
    "id": "AELP_gvx47jw",
    "outputId": "29aee907-7ec5-40ae-f7ff-5fc7fb1dcd56"
   },
   "outputs": [
    {
     "name": "stdout",
     "output_type": "stream",
     "text": [
      "Mounted at /content/drive\n"
     ]
    }
   ],
   "source": [
    "from google.colab import drive\n",
    "drive.mount('/content/drive')"
   ]
  },
  {
   "cell_type": "code",
   "execution_count": null,
   "metadata": {
    "editable": false,
    "execution": {
     "iopub.execute_input": "2021-06-02T20:02:54.971895Z",
     "iopub.status.busy": "2021-06-02T20:02:54.971507Z",
     "iopub.status.idle": "2021-06-02T20:02:55.607018Z",
     "shell.execute_reply": "2021-06-02T20:02:55.606161Z",
     "shell.execute_reply.started": "2021-06-02T20:02:54.971815Z"
    },
    "id": "CDMdxJMuxD9I"
   },
   "outputs": [],
   "source": [
    "import re\n",
    "import pandas as pd\n",
    "import matplotlib.pyplot as plt\n",
    "import seaborn as sns\n",
    "import numpy as np "
   ]
  },
  {
   "cell_type": "code",
   "execution_count": null,
   "metadata": {
    "id": "7AjvQigvFRjM"
   },
   "outputs": [],
   "source": [
    "from sklearn.metrics import accuracy_score\n",
    "from sklearn.metrics import precision_score\n",
    "from sklearn.metrics import f1_score"
   ]
  },
  {
   "cell_type": "markdown",
   "metadata": {
    "editable": false,
    "id": "n7ATgcC51v9G"
   },
   "source": [
    "## Load & explore data"
   ]
  },
  {
   "cell_type": "code",
   "execution_count": null,
   "metadata": {
    "execution": {
     "iopub.execute_input": "2021-06-02T20:02:57.654298Z",
     "iopub.status.busy": "2021-06-02T20:02:57.653970Z",
     "iopub.status.idle": "2021-06-02T20:02:57.745612Z",
     "shell.execute_reply": "2021-06-02T20:02:57.744813Z",
     "shell.execute_reply.started": "2021-06-02T20:02:57.654266Z"
    },
    "id": "HOl03tlI41h_"
   },
   "outputs": [],
   "source": [
    "train = pd.read_csv('/content/drive/MyDrive/ML Datasets/train.txt', header=None, sep=';', names=['Lines','Emotions'], encoding='utf-8')\n",
    "test = pd.read_csv('/content/drive/MyDrive/ML Datasets/test.txt', header=None, sep =';', names=['Lines','Emotions'], encoding='utf-8')\n",
    "validation = pd.read_csv('/content/drive/MyDrive/ML Datasets/val.txt', header=None, sep=';', names=['Lines','Emotions'], encoding='utf-8')"
   ]
  },
  {
   "cell_type": "code",
   "execution_count": null,
   "metadata": {
    "editable": false,
    "execution": {
     "iopub.execute_input": "2021-06-02T20:03:00.123323Z",
     "iopub.status.busy": "2021-06-02T20:03:00.123002Z",
     "iopub.status.idle": "2021-06-02T20:03:00.156789Z",
     "shell.execute_reply": "2021-06-02T20:03:00.155999Z",
     "shell.execute_reply.started": "2021-06-02T20:03:00.123294Z"
    },
    "id": "ilWt9MVdwQxZ"
   },
   "outputs": [],
   "source": [
    "emotions_to_labels = {'anger': 0, 'love': 1, 'fear': 2, 'joy': 3, 'sadness': 4,'surprise': 5}\n",
    "labels_to_emotions = {j:i for i,j in emotions_to_labels.items()}\n",
    "\n",
    "train['Labels'] = train['Emotions'].replace(emotions_to_labels)\n",
    "test['Labels'] = test['Emotions'].replace(emotions_to_labels)\n",
    "validation['Labels'] = validation['Emotions'].replace(emotions_to_labels)"
   ]
  },
  {
   "cell_type": "code",
   "execution_count": null,
   "metadata": {
    "colab": {
     "base_uri": "https://localhost:8080/",
     "height": 206
    },
    "editable": false,
    "execution": {
     "iopub.execute_input": "2021-06-02T20:03:02.348837Z",
     "iopub.status.busy": "2021-06-02T20:03:02.348523Z",
     "iopub.status.idle": "2021-06-02T20:03:02.367323Z",
     "shell.execute_reply": "2021-06-02T20:03:02.366539Z",
     "shell.execute_reply.started": "2021-06-02T20:03:02.348809Z"
    },
    "id": "9jHAWAUBwUmE",
    "outputId": "394c1123-58eb-461e-d096-a9756221c4ca"
   },
   "outputs": [
    {
     "data": {
      "text/html": [
       "\n",
       "  <div id=\"df-72a4a815-138a-49d0-8212-5bf0e270f171\">\n",
       "    <div class=\"colab-df-container\">\n",
       "      <div>\n",
       "<style scoped>\n",
       "    .dataframe tbody tr th:only-of-type {\n",
       "        vertical-align: middle;\n",
       "    }\n",
       "\n",
       "    .dataframe tbody tr th {\n",
       "        vertical-align: top;\n",
       "    }\n",
       "\n",
       "    .dataframe thead th {\n",
       "        text-align: right;\n",
       "    }\n",
       "</style>\n",
       "<table border=\"1\" class=\"dataframe\">\n",
       "  <thead>\n",
       "    <tr style=\"text-align: right;\">\n",
       "      <th></th>\n",
       "      <th>Lines</th>\n",
       "      <th>Emotions</th>\n",
       "      <th>Labels</th>\n",
       "    </tr>\n",
       "  </thead>\n",
       "  <tbody>\n",
       "    <tr>\n",
       "      <th>0</th>\n",
       "      <td>i didnt feel humiliated</td>\n",
       "      <td>sadness</td>\n",
       "      <td>4</td>\n",
       "    </tr>\n",
       "    <tr>\n",
       "      <th>1</th>\n",
       "      <td>i can go from feeling so hopeless to so damned...</td>\n",
       "      <td>sadness</td>\n",
       "      <td>4</td>\n",
       "    </tr>\n",
       "    <tr>\n",
       "      <th>2</th>\n",
       "      <td>im grabbing a minute to post i feel greedy wrong</td>\n",
       "      <td>anger</td>\n",
       "      <td>0</td>\n",
       "    </tr>\n",
       "    <tr>\n",
       "      <th>3</th>\n",
       "      <td>i am ever feeling nostalgic about the fireplac...</td>\n",
       "      <td>love</td>\n",
       "      <td>1</td>\n",
       "    </tr>\n",
       "    <tr>\n",
       "      <th>4</th>\n",
       "      <td>i am feeling grouchy</td>\n",
       "      <td>anger</td>\n",
       "      <td>0</td>\n",
       "    </tr>\n",
       "  </tbody>\n",
       "</table>\n",
       "</div>\n",
       "      <button class=\"colab-df-convert\" onclick=\"convertToInteractive('df-72a4a815-138a-49d0-8212-5bf0e270f171')\"\n",
       "              title=\"Convert this dataframe to an interactive table.\"\n",
       "              style=\"display:none;\">\n",
       "        \n",
       "  <svg xmlns=\"http://www.w3.org/2000/svg\" height=\"24px\"viewBox=\"0 0 24 24\"\n",
       "       width=\"24px\">\n",
       "    <path d=\"M0 0h24v24H0V0z\" fill=\"none\"/>\n",
       "    <path d=\"M18.56 5.44l.94 2.06.94-2.06 2.06-.94-2.06-.94-.94-2.06-.94 2.06-2.06.94zm-11 1L8.5 8.5l.94-2.06 2.06-.94-2.06-.94L8.5 2.5l-.94 2.06-2.06.94zm10 10l.94 2.06.94-2.06 2.06-.94-2.06-.94-.94-2.06-.94 2.06-2.06.94z\"/><path d=\"M17.41 7.96l-1.37-1.37c-.4-.4-.92-.59-1.43-.59-.52 0-1.04.2-1.43.59L10.3 9.45l-7.72 7.72c-.78.78-.78 2.05 0 2.83L4 21.41c.39.39.9.59 1.41.59.51 0 1.02-.2 1.41-.59l7.78-7.78 2.81-2.81c.8-.78.8-2.07 0-2.86zM5.41 20L4 18.59l7.72-7.72 1.47 1.35L5.41 20z\"/>\n",
       "  </svg>\n",
       "      </button>\n",
       "      \n",
       "  <style>\n",
       "    .colab-df-container {\n",
       "      display:flex;\n",
       "      flex-wrap:wrap;\n",
       "      gap: 12px;\n",
       "    }\n",
       "\n",
       "    .colab-df-convert {\n",
       "      background-color: #E8F0FE;\n",
       "      border: none;\n",
       "      border-radius: 50%;\n",
       "      cursor: pointer;\n",
       "      display: none;\n",
       "      fill: #1967D2;\n",
       "      height: 32px;\n",
       "      padding: 0 0 0 0;\n",
       "      width: 32px;\n",
       "    }\n",
       "\n",
       "    .colab-df-convert:hover {\n",
       "      background-color: #E2EBFA;\n",
       "      box-shadow: 0px 1px 2px rgba(60, 64, 67, 0.3), 0px 1px 3px 1px rgba(60, 64, 67, 0.15);\n",
       "      fill: #174EA6;\n",
       "    }\n",
       "\n",
       "    [theme=dark] .colab-df-convert {\n",
       "      background-color: #3B4455;\n",
       "      fill: #D2E3FC;\n",
       "    }\n",
       "\n",
       "    [theme=dark] .colab-df-convert:hover {\n",
       "      background-color: #434B5C;\n",
       "      box-shadow: 0px 1px 3px 1px rgba(0, 0, 0, 0.15);\n",
       "      filter: drop-shadow(0px 1px 2px rgba(0, 0, 0, 0.3));\n",
       "      fill: #FFFFFF;\n",
       "    }\n",
       "  </style>\n",
       "\n",
       "      <script>\n",
       "        const buttonEl =\n",
       "          document.querySelector('#df-72a4a815-138a-49d0-8212-5bf0e270f171 button.colab-df-convert');\n",
       "        buttonEl.style.display =\n",
       "          google.colab.kernel.accessAllowed ? 'block' : 'none';\n",
       "\n",
       "        async function convertToInteractive(key) {\n",
       "          const element = document.querySelector('#df-72a4a815-138a-49d0-8212-5bf0e270f171');\n",
       "          const dataTable =\n",
       "            await google.colab.kernel.invokeFunction('convertToInteractive',\n",
       "                                                     [key], {});\n",
       "          if (!dataTable) return;\n",
       "\n",
       "          const docLinkHtml = 'Like what you see? Visit the ' +\n",
       "            '<a target=\"_blank\" href=https://colab.research.google.com/notebooks/data_table.ipynb>data table notebook</a>'\n",
       "            + ' to learn more about interactive tables.';\n",
       "          element.innerHTML = '';\n",
       "          dataTable['output_type'] = 'display_data';\n",
       "          await google.colab.output.renderOutput(dataTable, element);\n",
       "          const docLink = document.createElement('div');\n",
       "          docLink.innerHTML = docLinkHtml;\n",
       "          element.appendChild(docLink);\n",
       "        }\n",
       "      </script>\n",
       "    </div>\n",
       "  </div>\n",
       "  "
      ],
      "text/plain": [
       "                                               Lines Emotions  Labels\n",
       "0                            i didnt feel humiliated  sadness       4\n",
       "1  i can go from feeling so hopeless to so damned...  sadness       4\n",
       "2   im grabbing a minute to post i feel greedy wrong    anger       0\n",
       "3  i am ever feeling nostalgic about the fireplac...     love       1\n",
       "4                               i am feeling grouchy    anger       0"
      ]
     },
     "execution_count": 5,
     "metadata": {},
     "output_type": "execute_result"
    }
   ],
   "source": [
    "train.head()"
   ]
  },
  {
   "cell_type": "markdown",
   "metadata": {
    "editable": false,
    "id": "GtudD4tm63g4"
   },
   "source": [
    "Bar chart of the distribution of records among categories:"
   ]
  },
  {
   "cell_type": "code",
   "execution_count": null,
   "metadata": {
    "editable": false,
    "execution": {
     "iopub.execute_input": "2021-06-02T20:03:05.813140Z",
     "iopub.status.busy": "2021-06-02T20:03:05.812795Z",
     "iopub.status.idle": "2021-06-02T20:03:05.821403Z",
     "shell.execute_reply": "2021-06-02T20:03:05.820566Z",
     "shell.execute_reply.started": "2021-06-02T20:03:05.813110Z"
    },
    "id": "2NcOp-5Lwbjm"
   },
   "outputs": [],
   "source": [
    "def visualize_labels_distribution(df, title='the'):\n",
    "  num_labels = df['Emotions'].value_counts()\n",
    "\n",
    "  x_barchart = range(df['Emotions'].nunique())\n",
    "  x_barchart_labels = [str(emotions_to_labels[emotion]) +\\\n",
    "                       ' - ' + emotion for emotion in list(num_labels.index)]\n",
    "\n",
    "  y_barchart = list(num_labels.values)\n",
    "\n",
    "  plt.figure(figsize = (5, 4))\n",
    "  plt.bar(x_barchart, y_barchart, color='#707bfb')\n",
    "\n",
    "  for index, data in enumerate(y_barchart):\n",
    "    plt.text(x = index, \n",
    "            y = data+max(y_barchart)/100, \n",
    "            s = '{}'.format(data), \n",
    "            fontdict = dict(fontsize=10), \n",
    "            ha = 'center',)\n",
    "  \n",
    "  plt.xticks(x_barchart, x_barchart_labels, rotation=40)\n",
    "  plt.title('Num of elements of each category for {} dataset'.format(title))\n",
    "  plt.tight_layout()\n",
    "\n",
    "  print('There are {} records in the dataset.\\n'.format(len(df.index)))\n",
    "\n",
    "  plt.show()"
   ]
  },
  {
   "cell_type": "code",
   "execution_count": null,
   "metadata": {
    "colab": {
     "base_uri": "https://localhost:8080/",
     "height": 1000
    },
    "editable": false,
    "execution": {
     "iopub.execute_input": "2021-06-02T20:03:08.411938Z",
     "iopub.status.busy": "2021-06-02T20:03:08.411630Z",
     "iopub.status.idle": "2021-06-02T20:03:09.031663Z",
     "shell.execute_reply": "2021-06-02T20:03:09.030849Z",
     "shell.execute_reply.started": "2021-06-02T20:03:08.411911Z"
    },
    "id": "CNFYqPdpwe5Q",
    "outputId": "71eed70b-63f3-4abb-ce60-aff88d638bfb"
   },
   "outputs": [
    {
     "name": "stdout",
     "output_type": "stream",
     "text": [
      "There are 16000 records in the dataset.\n",
      "\n"
     ]
    },
    {
     "data": {
      "image/png": "[encoded data removed]",
      "text/plain": [
       "<Figure size 500x400 with 1 Axes>"
      ]
     },
     "metadata": {},
     "output_type": "display_data"
    },
    {
     "name": "stdout",
     "output_type": "stream",
     "text": [
      "There are 2000 records in the dataset.\n",
      "\n"
     ]
    },
    {
     "data": {
      "image/png": "[encoded data removed]",
      "text/plain": [
       "<Figure size 500x400 with 1 Axes>"
      ]
     },
     "metadata": {},
     "output_type": "display_data"
    },
    {
     "name": "stdout",
     "output_type": "stream",
     "text": [
      "There are 2000 records in the dataset.\n",
      "\n"
     ]
    },
    {
     "data": {
      "image/png": "[encoded data removed]",
      "text/plain": [
       "<Figure size 500x400 with 1 Axes>"
      ]
     },
     "metadata": {},
     "output_type": "display_data"
    }
   ],
   "source": [
    "visualize_labels_distribution(train, 'train')\n",
    "visualize_labels_distribution(test, 'test')\n",
    "visualize_labels_distribution(validation, 'val')"
   ]
  },
  {
   "cell_type": "markdown",
   "metadata": {
    "editable": false,
    "id": "es4iuzXq2Ygq"
   },
   "source": [
    "## Text preprocessing"
   ]
  },
  {
   "cell_type": "code",
   "execution_count": null,
   "metadata": {
    "colab": {
     "base_uri": "https://localhost:8080/"
    },
    "editable": false,
    "execution": {
     "iopub.execute_input": "2021-06-02T20:03:19.667016Z",
     "iopub.status.busy": "2021-06-02T20:03:19.666691Z",
     "iopub.status.idle": "2021-06-02T20:03:20.612135Z",
     "shell.execute_reply": "2021-06-02T20:03:20.611372Z",
     "shell.execute_reply.started": "2021-06-02T20:03:19.666986Z"
    },
    "id": "I_RTdS100_wr",
    "outputId": "ef894e47-a5b3-4381-aa27-7e1c56c92dd7"
   },
   "outputs": [
    {
     "name": "stderr",
     "output_type": "stream",
     "text": [
      "[nltk_data] Downloading package punkt to /root/nltk_data...\n",
      "[nltk_data]   Unzipping tokenizers/punkt.zip.\n",
      "[nltk_data] Downloading package stopwords to /root/nltk_data...\n",
      "[nltk_data]   Unzipping corpora/stopwords.zip.\n"
     ]
    }
   ],
   "source": [
    "import nltk \n",
    "nltk.download('punkt')\n",
    "nltk.download('stopwords')\n",
    "from nltk.corpus import stopwords\n",
    "\n",
    "STOPWORDS = set(stopwords.words('english'))\n",
    "\n",
    "from nltk.tokenize import word_tokenize"
   ]
  },
  {
   "cell_type": "markdown",
   "metadata": {
    "editable": false,
    "id": "sNhmde-E21NJ"
   },
   "source": [
    "Text in the dataset seems to be quite 'clean', so it doesn`t require many preprocessing steps, only stop-word deletion and tokenization."
   ]
  },
  {
   "cell_type": "code",
   "execution_count": null,
   "metadata": {
    "editable": false,
    "execution": {
     "iopub.execute_input": "2021-06-02T20:03:23.695333Z",
     "iopub.status.busy": "2021-06-02T20:03:23.695028Z",
     "iopub.status.idle": "2021-06-02T20:03:23.700588Z",
     "shell.execute_reply": "2021-06-02T20:03:23.699653Z",
     "shell.execute_reply.started": "2021-06-02T20:03:23.695304Z"
    },
    "id": "5u1E4Kmm1IGz"
   },
   "outputs": [],
   "source": [
    "def text_preprocess(text, stop_words=False):\n",
    "  text = re.sub(r'\\W+', ' ', text).lower()\n",
    "\n",
    "  tokens = word_tokenize(text)\n",
    "\n",
    "  if stop_words:\n",
    "    tokens = [token for token in tokens if token not in STOPWORDS]\n",
    "\n",
    "  return tokens"
   ]
  },
  {
   "cell_type": "code",
   "execution_count": null,
   "metadata": {
    "colab": {
     "base_uri": "https://localhost:8080/"
    },
    "editable": false,
    "execution": {
     "iopub.execute_input": "2021-06-02T20:03:26.613336Z",
     "iopub.status.busy": "2021-06-02T20:03:26.613005Z",
     "iopub.status.idle": "2021-06-02T20:03:29.714114Z",
     "shell.execute_reply": "2021-06-02T20:03:29.713319Z",
     "shell.execute_reply.started": "2021-06-02T20:03:26.613307Z"
    },
    "id": "Q2zWyueL1Ll5",
    "outputId": "cc03e96c-83bd-4105-9906-bbce32a32e17"
   },
   "outputs": [
    {
     "name": "stdout",
     "output_type": "stream",
     "text": [
      "Before: \n",
      "                                               Lines Emotions  Labels\n",
      "0                            i didnt feel humiliated  sadness       4\n",
      "1  i can go from feeling so hopeless to so damned...  sadness       4\n",
      "2   im grabbing a minute to post i feel greedy wrong    anger       0\n",
      "3  i am ever feeling nostalgic about the fireplac...     love       1\n",
      "4                               i am feeling grouchy    anger       0\n",
      "\n",
      "After:\n",
      "(['didnt', 'feel', 'humiliated'], 4)\n",
      "(['go', 'feeling', 'hopeless', 'damned', 'hopeful', 'around', 'someone', 'cares', 'awake'], 4)\n",
      "(['im', 'grabbing', 'minute', 'post', 'feel', 'greedy', 'wrong'], 0)\n",
      "(['ever', 'feeling', 'nostalgic', 'fireplace', 'know', 'still', 'property'], 1)\n",
      "(['feeling', 'grouchy'], 0)\n"
     ]
    }
   ],
   "source": [
    "print('Before: ')\n",
    "print(train.head())\n",
    "\n",
    "x_train = [text_preprocess(t, stop_words=True) for t in train['Lines']]\n",
    "y_train = train['Labels'].values\n",
    "\n",
    "print('\\nAfter:')\n",
    "for line_and_label in list(zip(x_train[:5], y_train[:5])):\n",
    "  print(line_and_label)"
   ]
  },
  {
   "cell_type": "code",
   "execution_count": null,
   "metadata": {
    "editable": false,
    "execution": {
     "iopub.execute_input": "2021-06-02T20:03:29.716916Z",
     "iopub.status.busy": "2021-06-02T20:03:29.716603Z",
     "iopub.status.idle": "2021-06-02T20:03:30.495846Z",
     "shell.execute_reply": "2021-06-02T20:03:30.495029Z",
     "shell.execute_reply.started": "2021-06-02T20:03:29.716882Z"
    },
    "id": "lqq9jE_t1Vc4"
   },
   "outputs": [],
   "source": [
    "x_test = [text_preprocess(t, stop_words=True) for t in test['Lines']]\n",
    "y_test = test['Labels'].values\n",
    "\n",
    "x_validation = [text_preprocess(t, stop_words=True) for t in validation['Lines']]\n",
    "y_validation = validation['Labels'].values"
   ]
  },
  {
   "cell_type": "markdown",
   "metadata": {
    "editable": false,
    "id": "U4ytorX53fum"
   },
   "source": [
    "## Word embeddings"
   ]
  },
  {
   "cell_type": "markdown",
   "metadata": {
    "editable": false,
    "id": "s_VvcSaw8_cw"
   },
   "source": [
    "Some words may be specific for this dataset, so I use a combination of pre-trained fastText model and a Word2vec model, trained on the corpus of data.\n",
    "\n",
    "Occurence of words in the corpus must be >=2, leftovers are probably typos or terms that don`t have a semantic meaning."
   ]
  },
  {
   "cell_type": "code",
   "execution_count": null,
   "metadata": {
    "colab": {
     "base_uri": "https://localhost:8080/"
    },
    "editable": false,
    "execution": {
     "iopub.execute_input": "2021-06-02T20:03:33.018505Z",
     "iopub.status.busy": "2021-06-02T20:03:33.018165Z",
     "iopub.status.idle": "2021-06-02T20:13:30.957758Z",
     "shell.execute_reply": "2021-06-02T20:13:30.956854Z",
     "shell.execute_reply.started": "2021-06-02T20:03:33.018471Z"
    },
    "id": "g9vEwEDj1jxI",
    "outputId": "6b2564e3-e504-447e-84b0-872cf54972c9"
   },
   "outputs": [
    {
     "name": "stdout",
     "output_type": "stream",
     "text": [
      "[==================================================] 100.0% 958.5/958.4MB downloaded\n"
     ]
    }
   ],
   "source": [
    "import gensim.downloader as api\n",
    "model_wiki = api.load('fasttext-wiki-news-subwords-300')"
   ]
  },
  {
   "cell_type": "code",
   "execution_count": null,
   "metadata": {
    "execution": {
     "iopub.execute_input": "2021-06-02T20:14:49.848256Z",
     "iopub.status.busy": "2021-06-02T20:14:49.847887Z",
     "iopub.status.idle": "2021-06-02T20:14:51.691748Z",
     "shell.execute_reply": "2021-06-02T20:14:51.690777Z",
     "shell.execute_reply.started": "2021-06-02T20:14:49.848223Z"
    },
    "id": "uARU7kep41iI"
   },
   "outputs": [],
   "source": [
    "from gensim.models import Word2Vec\n",
    "\n",
    "model_w2v = Word2Vec(x_train + x_test + x_validation,\n",
    "                 vector_size = 300,                            \n",
    "                 min_count = 2).wv  "
   ]
  },
  {
   "cell_type": "markdown",
   "metadata": {
    "editable": false,
    "id": "DZPjc7444m-2"
   },
   "source": [
    "## Converting sentences into vectors"
   ]
  },
  {
   "cell_type": "code",
   "execution_count": null,
   "metadata": {
    "editable": false,
    "execution": {
     "iopub.execute_input": "2021-06-02T20:14:55.270520Z",
     "iopub.status.busy": "2021-06-02T20:14:55.270187Z",
     "iopub.status.idle": "2021-06-02T20:15:00.120369Z",
     "shell.execute_reply": "2021-06-02T20:15:00.119541Z",
     "shell.execute_reply.started": "2021-06-02T20:14:55.270487Z"
    },
    "id": "vFrxuAM01rQw"
   },
   "outputs": [],
   "source": [
    "from tensorflow.keras.preprocessing.text import Tokenizer"
   ]
  },
  {
   "cell_type": "code",
   "execution_count": null,
   "metadata": {
    "editable": false,
    "execution": {
     "iopub.execute_input": "2021-06-02T20:15:00.122053Z",
     "iopub.status.busy": "2021-06-02T20:15:00.121750Z",
     "iopub.status.idle": "2021-06-02T20:15:00.387360Z",
     "shell.execute_reply": "2021-06-02T20:15:00.386546Z",
     "shell.execute_reply.started": "2021-06-02T20:15:00.122018Z"
    },
    "id": "faIIp0Ri1wkW"
   },
   "outputs": [],
   "source": [
    "DICT_SIZE = 15000\n",
    "\n",
    "tokenizer = Tokenizer(num_words=DICT_SIZE)\n",
    "total = x_train + x_train + x_validation\n",
    "tokenizer.fit_on_texts(total)"
   ]
  },
  {
   "cell_type": "code",
   "execution_count": null,
   "metadata": {
    "colab": {
     "base_uri": "https://localhost:8080/"
    },
    "editable": false,
    "execution": {
     "iopub.execute_input": "2021-06-02T20:15:00.784276Z",
     "iopub.status.busy": "2021-06-02T20:15:00.783980Z",
     "iopub.status.idle": "2021-06-02T20:15:00.792046Z",
     "shell.execute_reply": "2021-06-02T20:15:00.791127Z",
     "shell.execute_reply.started": "2021-06-02T20:15:00.784247Z"
    },
    "id": "2MEHgrKG_ezc",
    "outputId": "7248768b-ca69-45c0-875b-98f72e8e2bda"
   },
   "outputs": [
    {
     "data": {
      "text/plain": [
       "[('feel', 1), ('feeling', 2), ('like', 3), ('im', 4), ('really', 5)]"
      ]
     },
     "execution_count": 16,
     "metadata": {},
     "output_type": "execute_result"
    }
   ],
   "source": [
    "list(tokenizer.word_index.items())[:5]"
   ]
  },
  {
   "cell_type": "code",
   "execution_count": null,
   "metadata": {
    "colab": {
     "base_uri": "https://localhost:8080/"
    },
    "editable": false,
    "execution": {
     "iopub.execute_input": "2021-06-02T20:15:03.374819Z",
     "iopub.status.busy": "2021-06-02T20:15:03.374495Z",
     "iopub.status.idle": "2021-06-02T20:15:03.382919Z",
     "shell.execute_reply": "2021-06-02T20:15:03.382120Z",
     "shell.execute_reply.started": "2021-06-02T20:15:03.374790Z"
    },
    "id": "xuJthtEy-Ylf",
    "outputId": "096acb2e-171b-4364-d5b2-2f451bedf674"
   },
   "outputs": [
    {
     "data": {
      "text/plain": [
       "16045"
      ]
     },
     "execution_count": 17,
     "metadata": {},
     "output_type": "execute_result"
    }
   ],
   "source": [
    "len(tokenizer.word_index)"
   ]
  },
  {
   "cell_type": "code",
   "execution_count": null,
   "metadata": {
    "editable": false,
    "execution": {
     "iopub.execute_input": "2021-06-02T20:15:06.234038Z",
     "iopub.status.busy": "2021-06-02T20:15:06.233717Z",
     "iopub.status.idle": "2021-06-02T20:15:06.240542Z",
     "shell.execute_reply": "2021-06-02T20:15:06.239305Z",
     "shell.execute_reply.started": "2021-06-02T20:15:06.234009Z"
    },
    "id": "KYLeLXwo12M0"
   },
   "outputs": [],
   "source": [
    "x_train_max_len = max([len(i) for i in x_train])\n",
    "x_test_max_len = max([len(i) for i in x_test])\n",
    "x_validation_max_len = max([len(i) for i in x_validation])\n",
    "\n",
    "MAX_LEN = max(x_train_max_len, x_test_max_len, x_validation_max_len)"
   ]
  },
  {
   "cell_type": "code",
   "execution_count": null,
   "metadata": {
    "colab": {
     "base_uri": "https://localhost:8080/"
    },
    "editable": false,
    "execution": {
     "iopub.execute_input": "2021-06-02T20:15:08.931994Z",
     "iopub.status.busy": "2021-06-02T20:15:08.931676Z",
     "iopub.status.idle": "2021-06-02T20:15:08.936750Z",
     "shell.execute_reply": "2021-06-02T20:15:08.935911Z",
     "shell.execute_reply.started": "2021-06-02T20:15:08.931965Z"
    },
    "id": "Sa66ZJTlKRY3",
    "outputId": "5ac3884f-9802-4066-d3dc-96ade0244fa7"
   },
   "outputs": [
    {
     "data": {
      "text/plain": [
       "35"
      ]
     },
     "execution_count": 19,
     "metadata": {},
     "output_type": "execute_result"
    }
   ],
   "source": [
    "MAX_LEN"
   ]
  },
  {
   "cell_type": "code",
   "execution_count": null,
   "metadata": {
    "editable": false,
    "execution": {
     "iopub.execute_input": "2021-06-02T20:15:12.130890Z",
     "iopub.status.busy": "2021-06-02T20:15:12.130553Z",
     "iopub.status.idle": "2021-06-02T20:15:12.135748Z",
     "shell.execute_reply": "2021-06-02T20:15:12.134785Z",
     "shell.execute_reply.started": "2021-06-02T20:15:12.130861Z"
    },
    "id": "SGQLk4KZ14HL"
   },
   "outputs": [],
   "source": [
    "from tensorflow.keras.preprocessing.sequence import pad_sequences"
   ]
  },
  {
   "cell_type": "code",
   "execution_count": null,
   "metadata": {
    "editable": false,
    "execution": {
     "iopub.execute_input": "2021-06-02T20:15:16.650948Z",
     "iopub.status.busy": "2021-06-02T20:15:16.650634Z",
     "iopub.status.idle": "2021-06-02T20:15:16.896792Z",
     "shell.execute_reply": "2021-06-02T20:15:16.895942Z",
     "shell.execute_reply.started": "2021-06-02T20:15:16.650920Z"
    },
    "id": "EmWEYeCb15Jb"
   },
   "outputs": [],
   "source": [
    "X_train = tokenizer.texts_to_sequences(x_train)\n",
    "X_train_pad = pad_sequences(X_train, maxlen=MAX_LEN)\n",
    "\n",
    "X_test = tokenizer.texts_to_sequences(x_test)\n",
    "X_test_pad = pad_sequences(X_test, maxlen=MAX_LEN)\n",
    "\n",
    "X_val = tokenizer.texts_to_sequences(x_validation)\n",
    "X_val_pad = pad_sequences(X_val, maxlen=MAX_LEN)"
   ]
  },
  {
   "cell_type": "code",
   "execution_count": null,
   "metadata": {
    "colab": {
     "base_uri": "https://localhost:8080/"
    },
    "editable": false,
    "execution": {
     "iopub.execute_input": "2021-06-02T20:15:20.158167Z",
     "iopub.status.busy": "2021-06-02T20:15:20.157841Z",
     "iopub.status.idle": "2021-06-02T20:15:20.165364Z",
     "shell.execute_reply": "2021-06-02T20:15:20.164397Z",
     "shell.execute_reply.started": "2021-06-02T20:15:20.158130Z"
    },
    "id": "Mq7mXY4a7aeN",
    "outputId": "18cb051e-6d44-4f2e-a9b6-f14d98354ea7"
   },
   "outputs": [
    {
     "data": {
      "text/plain": [
       "[51, 1, 556]"
      ]
     },
     "execution_count": 22,
     "metadata": {},
     "output_type": "execute_result"
    }
   ],
   "source": [
    "X_train[0]"
   ]
  },
  {
   "cell_type": "code",
   "execution_count": null,
   "metadata": {
    "colab": {
     "base_uri": "https://localhost:8080/"
    },
    "editable": false,
    "execution": {
     "iopub.execute_input": "2021-06-02T20:15:23.041003Z",
     "iopub.status.busy": "2021-06-02T20:15:23.040682Z",
     "iopub.status.idle": "2021-06-02T20:15:23.049568Z",
     "shell.execute_reply": "2021-06-02T20:15:23.048545Z",
     "shell.execute_reply.started": "2021-06-02T20:15:23.040973Z"
    },
    "id": "mSClZ82r7eqW",
    "outputId": "a1e4c4b0-321b-4de9-be9e-f1973462bd4c"
   },
   "outputs": [
    {
     "data": {
      "text/plain": [
       "array([  0,   0,   0,   0,   0,   0,   0,   0,   0,   0,   0,   0,   0,\n",
       "         0,   0,   0,   0,   0,   0,   0,   0,   0,   0,   0,   0,   0,\n",
       "         0,   0,   0,   0,   0,   0,  51,   1, 556], dtype=int32)"
      ]
     },
     "execution_count": 23,
     "metadata": {},
     "output_type": "execute_result"
    }
   ],
   "source": [
    "X_train_pad[0]"
   ]
  },
  {
   "cell_type": "markdown",
   "metadata": {
    "editable": false,
    "id": "nR3Gq1Pr4RwL"
   },
   "source": [
    "## Embedding matrix"
   ]
  },
  {
   "cell_type": "code",
   "execution_count": null,
   "metadata": {
    "execution": {
     "iopub.execute_input": "2021-06-02T20:17:33.844282Z",
     "iopub.status.busy": "2021-06-02T20:17:33.843957Z",
     "iopub.status.idle": "2021-06-02T20:17:33.850585Z",
     "shell.execute_reply": "2021-06-02T20:17:33.849762Z",
     "shell.execute_reply.started": "2021-06-02T20:17:33.844253Z"
    },
    "id": "58Lw-LNE41iL"
   },
   "outputs": [],
   "source": [
    "def create_weight_matrix(model, second_model=False):\n",
    "  vector_size = model.get_vector('like').shape[0]\n",
    "  w_matrix = np.zeros((DICT_SIZE, vector_size))\n",
    "  skipped_words = []\n",
    "\n",
    "  for word, index in tokenizer.word_index.items():\n",
    "    if index < DICT_SIZE:\n",
    "      if word in model.key_to_index: \n",
    "        w_matrix[index] = model.get_vector(word)\n",
    "      else:\n",
    "        if second_model:\n",
    "          if word in second_model.key_to_index:\n",
    "            w_matrix[index] = second_model.get_vector(word)\n",
    "          else:\n",
    "            skipped_words.append(word)\n",
    "        else:\n",
    "          skipped_words.append(word)\n",
    " \n",
    "  print(f'{len(skipped_words)} words were skipped. Some of them:')\n",
    "  print(skipped_words[:50])\n",
    "  return w_matrix"
   ]
  },
  {
   "cell_type": "code",
   "execution_count": null,
   "metadata": {
    "colab": {
     "base_uri": "https://localhost:8080/"
    },
    "editable": false,
    "execution": {
     "iopub.execute_input": "2021-06-02T20:17:38.758059Z",
     "iopub.status.busy": "2021-06-02T20:17:38.757740Z",
     "iopub.status.idle": "2021-06-02T20:17:38.840098Z",
     "shell.execute_reply": "2021-06-02T20:17:38.839233Z",
     "shell.execute_reply.started": "2021-06-02T20:17:38.758030Z"
    },
    "id": "o3LH7Qkm2D2q",
    "outputId": "7e371354-6ab4-4feb-be86-7507debc7430"
   },
   "outputs": [
    {
     "name": "stdout",
     "output_type": "stream",
     "text": [
      "991 words were skipped. Some of them:\n",
      "['jacynthe', 'rupaul', 'kayle', 'gerling', 'mxm', 'dannika', 'hyperchondria', 'manitz', 'educationg', 'gosman', 'montauk', 'bummin', 'wheeeeee', 'underwears', 'olivias', 'bandhu', 'uplifter', 'suicidalness', 'dykey', 'provokingbeauty', 'bodypump', 'honkerblonked', 'clermont', 'instructables', 'janne', 'suominen', 'kamiki', 'nozomi', 'nonchan', 'beaubronz', 'docrat', 'allthingsbucks', 'irresponcible', 'scruncher', 'utf', 'isprivate', 'ismobile', 'mobileclass', 'isprivateblog', 'languagedirection', 'feedlinks', 'lorena', 'handss', 'nervs', 'mommyhood', 'nowwwwww', 'whitleys', 'forelorn', 'baachan', 'covingtons']\n"
     ]
    }
   ],
   "source": [
    "weight_matrix = create_weight_matrix(model_wiki, model_w2v)"
   ]
  },
  {
   "cell_type": "code",
   "execution_count": null,
   "metadata": {
    "colab": {
     "base_uri": "https://localhost:8080/"
    },
    "editable": false,
    "execution": {
     "iopub.execute_input": "2021-06-02T20:17:48.553456Z",
     "iopub.status.busy": "2021-06-02T20:17:48.553113Z",
     "iopub.status.idle": "2021-06-02T20:17:48.558810Z",
     "shell.execute_reply": "2021-06-02T20:17:48.557889Z",
     "shell.execute_reply.started": "2021-06-02T20:17:48.553410Z"
    },
    "id": "2Cp6cNV8utP0",
    "outputId": "072fa7be-ef5d-47a3-f20b-7e7b8fd42b4a"
   },
   "outputs": [
    {
     "data": {
      "text/plain": [
       "(15000, 300)"
      ]
     },
     "execution_count": 26,
     "metadata": {},
     "output_type": "execute_result"
    }
   ],
   "source": [
    "weight_matrix.shape"
   ]
  },
  {
   "cell_type": "markdown",
   "metadata": {
    "editable": false,
    "id": "jm4laUO94vpa"
   },
   "source": [
    "## DL model"
   ]
  },
  {
   "cell_type": "code",
   "execution_count": null,
   "metadata": {
    "editable": false,
    "execution": {
     "iopub.execute_input": "2021-06-02T20:18:07.026941Z",
     "iopub.status.busy": "2021-06-02T20:18:07.026619Z",
     "iopub.status.idle": "2021-06-02T20:18:07.033295Z",
     "shell.execute_reply": "2021-06-02T20:18:07.032330Z",
     "shell.execute_reply.started": "2021-06-02T20:18:07.026911Z"
    },
    "id": "eMMy9Ewi2OEl"
   },
   "outputs": [],
   "source": [
    "from tensorflow.keras.models import Sequential\n",
    "from tensorflow.keras.layers import Embedding, LSTM, Bidirectional, Dense, Dropout\n",
    "from tensorflow.keras.optimizers import Adam"
   ]
  },
  {
   "cell_type": "code",
   "execution_count": null,
   "metadata": {
    "editable": false,
    "execution": {
     "iopub.execute_input": "2021-06-02T20:18:08.864064Z",
     "iopub.status.busy": "2021-06-02T20:18:08.863757Z",
     "iopub.status.idle": "2021-06-02T20:18:08.868567Z",
     "shell.execute_reply": "2021-06-02T20:18:08.867317Z",
     "shell.execute_reply.started": "2021-06-02T20:18:08.864036Z"
    },
    "id": "9MkuvLLo2PA6"
   },
   "outputs": [],
   "source": [
    "from tensorflow.keras.callbacks import EarlyStopping\n",
    "stop = EarlyStopping(monitor='val_loss', mode='min', verbose=1, patience=3)"
   ]
  },
  {
   "cell_type": "code",
   "execution_count": null,
   "metadata": {
    "id": "ACRaEm3I_loU"
   },
   "outputs": [],
   "source": [
    "def psuedo_random(shape, dtype=None):\n",
    "    nums = np.random.randint(-100, 100, shape)\n",
    "    return nums"
   ]
  },
  {
   "cell_type": "code",
   "execution_count": null,
   "metadata": {
    "editable": false,
    "execution": {
     "iopub.execute_input": "2021-06-02T20:30:11.027712Z",
     "iopub.status.busy": "2021-06-02T20:30:11.027269Z",
     "iopub.status.idle": "2021-06-02T20:30:11.092156Z",
     "shell.execute_reply": "2021-06-02T20:30:11.091367Z",
     "shell.execute_reply.started": "2021-06-02T20:30:11.027673Z"
    },
    "id": "AA7oBHyy2TJg"
   },
   "outputs": [],
   "source": [
    "model_psuedo = Sequential([\n",
    "    Embedding(input_dim = DICT_SIZE,\n",
    "                    output_dim = weight_matrix.shape[1],\n",
    "                    input_length = X_train_pad.shape[1],\n",
    "                    weights=[weight_matrix],\n",
    "                    trainable=False),\n",
    "    Bidirectional(LSTM(128, return_sequences=True)),\n",
    "    Dropout(0.2),\n",
    "    Bidirectional(LSTM(256, return_sequences=True)),\n",
    "    Dropout(0.2),\n",
    "    Bidirectional(LSTM(128, return_sequences=False)),\n",
    "    Dense(6, activation = 'softmax', kernel_initializer = psuedo_random)\n",
    "])\n",
    "model_psuedo.compile(loss='sparse_categorical_crossentropy', optimizer='adam', metrics='accuracy')"
   ]
  },
  {
   "cell_type": "code",
   "execution_count": null,
   "metadata": {
    "id": "9g0La07UD3cS"
   },
   "outputs": [],
   "source": [
    "file_path = '/content/drive/MyDrive/ML Datasets/Random Numbers/random4_comma seperated.dat'\n",
    "quant_nums = list(pd.read_csv(file_path).to_numpy().flatten())"
   ]
  },
  {
   "cell_type": "code",
   "execution_count": null,
   "metadata": {
    "id": "zBmwPBYG_w7M"
   },
   "outputs": [],
   "source": [
    "def quant_random(shape, dtype=None):\n",
    "    nums = np.random.choice(quant_nums, shape, replace = True)\n",
    "    return nums"
   ]
  },
  {
   "cell_type": "code",
   "execution_count": null,
   "metadata": {
    "id": "9ghe63bl_K8G"
   },
   "outputs": [],
   "source": [
    "model_quant = Sequential([\n",
    "    Embedding(input_dim = DICT_SIZE,\n",
    "                    output_dim = weight_matrix.shape[1],\n",
    "                    input_length = X_train_pad.shape[1],\n",
    "                    weights=[weight_matrix],\n",
    "                    trainable=False),\n",
    "    Bidirectional(LSTM(128, return_sequences=True)),\n",
    "    Dropout(0.2),\n",
    "    Bidirectional(LSTM(256, return_sequences=True)),\n",
    "    Dropout(0.2),\n",
    "    Bidirectional(LSTM(128, return_sequences=False)),\n",
    "    Dense(6, activation = 'softmax', kernel_initializer = psuedo_random)\n",
    "])\n",
    "model_quant.compile(loss='sparse_categorical_crossentropy', optimizer='adam', metrics='accuracy')"
   ]
  },
  {
   "cell_type": "code",
   "execution_count": null,
   "metadata": {
    "id": "RJZzfpmzEaAG"
   },
   "outputs": [],
   "source": [
    "def multiruns(psuedo_random, quant_random, n_runs = 20, epochs = 20):\n",
    "    accuracy_psuedo, accuracy_quant, precision_psuedo, precision_quant, f1_psuedo, f1_quant = [], [], [], [], [], []\n",
    "    for run in range(n_runs):\n",
    "        history_psuedo = psuedo_random.fit(X_train_pad, y_train, \n",
    "                    validation_data = (X_val_pad, y_validation),\n",
    "                    batch_size = 8,\n",
    "                    epochs = epochs, \n",
    "                    callbacks = stop)\n",
    "        history_quant = quant_random.fit(X_train_pad, y_train, \n",
    "                    validation_data = (X_val_pad, y_validation),\n",
    "                    batch_size = 8,\n",
    "                    epochs = epochs, \n",
    "                    callbacks = stop)\n",
    "\n",
    "        pred_psuedo = np.argmax(psuedo_random.predict(X_test_pad), axis=1)\n",
    "        pred_quant = np.argmax(quant_random.predict(X_test_pad), axis=1)\n",
    "\n",
    "        accuracy_psuedo.append(accuracy_score(y_test, pred_psuedo))\n",
    "        accuracy_quant.append(accuracy_score(y_test, pred_quant))\n",
    "\n",
    "        precision_psuedo.append(precision_score(y_test, pred_psuedo, average = 'micro'))\n",
    "        precision_quant.append(precision_score(y_test, pred_quant, average = 'micro'))\n",
    "\n",
    "        f1_psuedo.append(f1_score(y_test, pred_psuedo, average = 'micro'))\n",
    "        f1_quant.append(f1_score(y_test, pred_quant, average = 'micro'))\n",
    "\n",
    "    return accuracy_psuedo, accuracy_quant, precision_psuedo, precision_quant, f1_psuedo, f1_quant"
   ]
  },
  {
   "cell_type": "code",
   "execution_count": null,
   "metadata": {
    "colab": {
     "base_uri": "https://localhost:8080/"
    },
    "editable": false,
    "execution": {
     "iopub.execute_input": "2021-06-02T20:30:18.908002Z",
     "iopub.status.busy": "2021-06-02T20:30:18.907688Z",
     "iopub.status.idle": "2021-06-02T20:36:44.564083Z",
     "shell.execute_reply": "2021-06-02T20:36:44.563070Z",
     "shell.execute_reply.started": "2021-06-02T20:30:18.907973Z"
    },
    "id": "GwBNhGpT2bZU",
    "outputId": "edcb61e5-dcb4-4f07-c363-8653a1c22994"
   },
   "outputs": [
    {
     "name": "stdout",
     "output_type": "stream",
     "text": [
      "Epoch 1/10\n",
      "2000/2000 [==============================] - 34s 17ms/step - loss: 0.0312 - accuracy: 0.9896 - val_loss: 0.3406 - val_accuracy: 0.9335\n",
      "Epoch 2/10\n",
      "2000/2000 [==============================] - 32s 16ms/step - loss: 0.0311 - accuracy: 0.9881 - val_loss: 0.3418 - val_accuracy: 0.9320\n",
      "Epoch 3/10\n",
      "2000/2000 [==============================] - 32s 16ms/step - loss: 0.0293 - accuracy: 0.9894 - val_loss: 0.3953 - val_accuracy: 0.9345\n",
      "Epoch 4/10\n",
      "2000/2000 [==============================] - 35s 17ms/step - loss: 0.0306 - accuracy: 0.9889 - val_loss: 0.3268 - val_accuracy: 0.9360\n",
      "Epoch 5/10\n",
      "2000/2000 [==============================] - 33s 17ms/step - loss: 0.0298 - accuracy: 0.9887 - val_loss: 0.3163 - val_accuracy: 0.9335\n",
      "Epoch 6/10\n",
      "2000/2000 [==============================] - 36s 18ms/step - loss: 0.0265 - accuracy: 0.9911 - val_loss: 0.3455 - val_accuracy: 0.9370\n",
      "Epoch 7/10\n",
      "2000/2000 [==============================] - 34s 17ms/step - loss: 0.0244 - accuracy: 0.9912 - val_loss: 0.4066 - val_accuracy: 0.9395\n",
      "Epoch 8/10\n",
      "2000/2000 [==============================] - 33s 17ms/step - loss: 0.0256 - accuracy: 0.9913 - val_loss: 0.3342 - val_accuracy: 0.9380\n",
      "Epoch 8: early stopping\n",
      "Epoch 1/10\n",
      "2000/2000 [==============================] - 32s 16ms/step - loss: 0.0702 - accuracy: 0.9737 - val_loss: 0.2988 - val_accuracy: 0.9305\n",
      "Epoch 2/10\n",
      "2000/2000 [==============================] - 35s 18ms/step - loss: 0.0640 - accuracy: 0.9759 - val_loss: 0.3081 - val_accuracy: 0.9285\n",
      "Epoch 3/10\n",
      "2000/2000 [==============================] - 34s 17ms/step - loss: 0.0600 - accuracy: 0.9782 - val_loss: 0.2789 - val_accuracy: 0.9315\n",
      "Epoch 4/10\n",
      "2000/2000 [==============================] - 34s 17ms/step - loss: 0.0662 - accuracy: 0.9778 - val_loss: 0.2693 - val_accuracy: 0.9315\n",
      "Epoch 5/10\n",
      "2000/2000 [==============================] - 33s 17ms/step - loss: 0.0463 - accuracy: 0.9834 - val_loss: 0.3371 - val_accuracy: 0.9280\n",
      "Epoch 6/10\n",
      "2000/2000 [==============================] - 33s 17ms/step - loss: 0.0470 - accuracy: 0.9819 - val_loss: 0.2985 - val_accuracy: 0.9355\n",
      "Epoch 7/10\n",
      "2000/2000 [==============================] - 32s 16ms/step - loss: 0.0441 - accuracy: 0.9835 - val_loss: 0.3385 - val_accuracy: 0.9250\n",
      "Epoch 7: early stopping\n",
      "63/63 [==============================] - 0s 6ms/step\n",
      "63/63 [==============================] - 0s 6ms/step\n",
      "[4 4 4 ... 3 3 5]\n",
      "Epoch 1/10\n",
      "2000/2000 [==============================] - 33s 16ms/step - loss: 0.0233 - accuracy: 0.9924 - val_loss: 0.3335 - val_accuracy: 0.9355\n",
      "Epoch 2/10\n",
      "2000/2000 [==============================] - 34s 17ms/step - loss: 0.0276 - accuracy: 0.9906 - val_loss: 0.3362 - val_accuracy: 0.9380\n",
      "Epoch 3/10\n",
      "2000/2000 [==============================] - 35s 18ms/step - loss: 0.0174 - accuracy: 0.9936 - val_loss: 0.4898 - val_accuracy: 0.9335\n",
      "Epoch 4/10\n",
      "2000/2000 [==============================] - 32s 16ms/step - loss: 0.0219 - accuracy: 0.9914 - val_loss: 0.3728 - val_accuracy: 0.9325\n",
      "Epoch 4: early stopping\n",
      "Epoch 1/10\n",
      "2000/2000 [==============================] - 32s 16ms/step - loss: 0.0416 - accuracy: 0.9846 - val_loss: 0.4232 - val_accuracy: 0.9270\n",
      "Epoch 2/10\n",
      "2000/2000 [==============================] - 33s 17ms/step - loss: 0.0448 - accuracy: 0.9846 - val_loss: 0.2917 - val_accuracy: 0.9370\n",
      "Epoch 3/10\n",
      "2000/2000 [==============================] - 33s 17ms/step - loss: 0.0417 - accuracy: 0.9861 - val_loss: 0.3143 - val_accuracy: 0.9330\n",
      "Epoch 4/10\n",
      "2000/2000 [==============================] - 32s 16ms/step - loss: 0.0352 - accuracy: 0.9877 - val_loss: 0.3184 - val_accuracy: 0.9290\n",
      "Epoch 5/10\n",
      "2000/2000 [==============================] - 35s 18ms/step - loss: 0.0358 - accuracy: 0.9872 - val_loss: 0.3024 - val_accuracy: 0.9325\n",
      "Epoch 5: early stopping\n",
      "63/63 [==============================] - 1s 10ms/step\n",
      "63/63 [==============================] - 0s 6ms/step\n",
      "[4 4 4 ... 3 3 5]\n",
      "Epoch 1/10\n",
      "2000/2000 [==============================] - 33s 16ms/step - loss: 0.0239 - accuracy: 0.9919 - val_loss: 0.3495 - val_accuracy: 0.9320\n",
      "Epoch 2/10\n",
      "2000/2000 [==============================] - 33s 17ms/step - loss: 0.0207 - accuracy: 0.9924 - val_loss: 0.3252 - val_accuracy: 0.9330\n",
      "Epoch 3/10\n",
      "2000/2000 [==============================] - 33s 17ms/step - loss: 0.0197 - accuracy: 0.9934 - val_loss: 0.3799 - val_accuracy: 0.9335\n",
      "Epoch 4/10\n",
      "2000/2000 [==============================] - 33s 16ms/step - loss: 0.0225 - accuracy: 0.9926 - val_loss: 0.3829 - val_accuracy: 0.9315\n",
      "Epoch 5/10\n",
      "2000/2000 [==============================] - 34s 17ms/step - loss: 0.0149 - accuracy: 0.9947 - val_loss: 0.4239 - val_accuracy: 0.9325\n",
      "Epoch 5: early stopping\n",
      "Epoch 1/10\n",
      "2000/2000 [==============================] - 33s 17ms/step - loss: 0.0333 - accuracy: 0.9887 - val_loss: 0.3356 - val_accuracy: 0.9315\n",
      "Epoch 2/10\n",
      "2000/2000 [==============================] - 33s 17ms/step - loss: 0.0339 - accuracy: 0.9878 - val_loss: 0.3833 - val_accuracy: 0.9305\n",
      "Epoch 3/10\n",
      "2000/2000 [==============================] - 31s 16ms/step - loss: 0.0341 - accuracy: 0.9886 - val_loss: 0.3205 - val_accuracy: 0.9335\n",
      "Epoch 4/10\n",
      "2000/2000 [==============================] - 31s 16ms/step - loss: 0.0285 - accuracy: 0.9899 - val_loss: 0.3765 - val_accuracy: 0.9310\n",
      "Epoch 5/10\n",
      "2000/2000 [==============================] - 33s 17ms/step - loss: 0.0293 - accuracy: 0.9897 - val_loss: 0.3233 - val_accuracy: 0.9325\n",
      "Epoch 6/10\n",
      "2000/2000 [==============================] - 33s 17ms/step - loss: 0.0295 - accuracy: 0.9902 - val_loss: 0.3562 - val_accuracy: 0.9330\n",
      "Epoch 6: early stopping\n",
      "63/63 [==============================] - 1s 8ms/step\n",
      "63/63 [==============================] - 0s 6ms/step\n",
      "[4 4 4 ... 3 3 5]\n",
      "Epoch 1/10\n",
      "2000/2000 [==============================] - 33s 16ms/step - loss: 0.0214 - accuracy: 0.9918 - val_loss: 0.4199 - val_accuracy: 0.9370\n",
      "Epoch 2/10\n",
      "2000/2000 [==============================] - 33s 16ms/step - loss: 0.0170 - accuracy: 0.9937 - val_loss: 0.3767 - val_accuracy: 0.9340\n",
      "Epoch 3/10\n",
      "2000/2000 [==============================] - 33s 16ms/step - loss: 0.0197 - accuracy: 0.9937 - val_loss: 0.3904 - val_accuracy: 0.9340\n",
      "Epoch 4/10\n",
      "2000/2000 [==============================] - 32s 16ms/step - loss: 0.0151 - accuracy: 0.9948 - val_loss: 0.3839 - val_accuracy: 0.9340\n",
      "Epoch 5/10\n",
      "2000/2000 [==============================] - 34s 17ms/step - loss: 0.0126 - accuracy: 0.9951 - val_loss: 0.4252 - val_accuracy: 0.9355\n",
      "Epoch 5: early stopping\n",
      "Epoch 1/10\n",
      "2000/2000 [==============================] - 32s 16ms/step - loss: 0.0288 - accuracy: 0.9903 - val_loss: 0.3562 - val_accuracy: 0.9315\n",
      "Epoch 2/10\n",
      "2000/2000 [==============================] - 34s 17ms/step - loss: 0.0244 - accuracy: 0.9911 - val_loss: 0.3393 - val_accuracy: 0.9340\n",
      "Epoch 3/10\n",
      "2000/2000 [==============================] - 33s 17ms/step - loss: 0.0252 - accuracy: 0.9909 - val_loss: 0.3434 - val_accuracy: 0.9360\n",
      "Epoch 4/10\n",
      "2000/2000 [==============================] - 33s 16ms/step - loss: 0.0252 - accuracy: 0.9921 - val_loss: 0.3129 - val_accuracy: 0.9285\n",
      "Epoch 5/10\n",
      "2000/2000 [==============================] - 32s 16ms/step - loss: 0.0171 - accuracy: 0.9936 - val_loss: 0.4773 - val_accuracy: 0.9315\n",
      "Epoch 6/10\n",
      "2000/2000 [==============================] - 33s 16ms/step - loss: 0.0235 - accuracy: 0.9921 - val_loss: 0.3476 - val_accuracy: 0.9310\n",
      "Epoch 7/10\n",
      "2000/2000 [==============================] - 33s 17ms/step - loss: 0.0205 - accuracy: 0.9924 - val_loss: 0.4123 - val_accuracy: 0.9385\n",
      "Epoch 7: early stopping\n",
      "63/63 [==============================] - 1s 8ms/step\n",
      "63/63 [==============================] - 0s 6ms/step\n",
      "[4 4 4 ... 3 3 2]\n",
      "Epoch 1/10\n",
      "2000/2000 [==============================] - 33s 17ms/step - loss: 0.0221 - accuracy: 0.9935 - val_loss: 0.3571 - val_accuracy: 0.9335\n",
      "Epoch 2/10\n",
      "2000/2000 [==============================] - 33s 16ms/step - loss: 0.0137 - accuracy: 0.9953 - val_loss: 0.4945 - val_accuracy: 0.9365\n",
      "Epoch 3/10\n",
      "2000/2000 [==============================] - 33s 16ms/step - loss: 0.0144 - accuracy: 0.9943 - val_loss: 0.3971 - val_accuracy: 0.9370\n",
      "Epoch 4/10\n",
      "2000/2000 [==============================] - 32s 16ms/step - loss: 0.0169 - accuracy: 0.9940 - val_loss: 0.4240 - val_accuracy: 0.9330\n",
      "Epoch 4: early stopping\n",
      "Epoch 1/10\n",
      "2000/2000 [==============================] - 34s 17ms/step - loss: 0.0198 - accuracy: 0.9929 - val_loss: 0.4513 - val_accuracy: 0.9360\n",
      "Epoch 2/10\n",
      "2000/2000 [==============================] - 34s 17ms/step - loss: 0.0222 - accuracy: 0.9927 - val_loss: 0.3921 - val_accuracy: 0.9360\n",
      "Epoch 3/10\n",
      "2000/2000 [==============================] - 33s 16ms/step - loss: 0.0195 - accuracy: 0.9934 - val_loss: 0.4247 - val_accuracy: 0.9330\n",
      "Epoch 4/10\n",
      "2000/2000 [==============================] - 33s 16ms/step - loss: 0.0242 - accuracy: 0.9919 - val_loss: 0.3652 - val_accuracy: 0.9300\n",
      "Epoch 5/10\n",
      "2000/2000 [==============================] - 35s 17ms/step - loss: 0.0188 - accuracy: 0.9931 - val_loss: 0.3527 - val_accuracy: 0.9360\n",
      "Epoch 6/10\n",
      "2000/2000 [==============================] - 33s 16ms/step - loss: 0.0178 - accuracy: 0.9936 - val_loss: 0.4004 - val_accuracy: 0.9295\n",
      "Epoch 7/10\n",
      "2000/2000 [==============================] - 34s 17ms/step - loss: 0.0187 - accuracy: 0.9936 - val_loss: 0.4138 - val_accuracy: 0.9365\n",
      "Epoch 8/10\n",
      "2000/2000 [==============================] - 34s 17ms/step - loss: 0.0214 - accuracy: 0.9936 - val_loss: 0.3088 - val_accuracy: 0.9225\n",
      "Epoch 9/10\n",
      "2000/2000 [==============================] - 35s 17ms/step - loss: 0.0175 - accuracy: 0.9936 - val_loss: 0.3389 - val_accuracy: 0.9275\n",
      "Epoch 10/10\n",
      "2000/2000 [==============================] - 34s 17ms/step - loss: 0.0141 - accuracy: 0.9945 - val_loss: 0.4463 - val_accuracy: 0.9365\n",
      "63/63 [==============================] - 1s 8ms/step\n",
      "63/63 [==============================] - 0s 6ms/step\n",
      "[4 4 4 ... 3 3 5]\n",
      "Epoch 1/10\n",
      "2000/2000 [==============================] - 33s 16ms/step - loss: 0.0172 - accuracy: 0.9952 - val_loss: 0.3660 - val_accuracy: 0.9360\n",
      "Epoch 2/10\n",
      "2000/2000 [==============================] - 34s 17ms/step - loss: 0.0128 - accuracy: 0.9951 - val_loss: 0.4524 - val_accuracy: 0.9395\n",
      "Epoch 3/10\n",
      "2000/2000 [==============================] - 35s 18ms/step - loss: 0.0146 - accuracy: 0.9948 - val_loss: 0.4394 - val_accuracy: 0.9330\n",
      "Epoch 4/10\n",
      "2000/2000 [==============================] - 33s 17ms/step - loss: 0.0135 - accuracy: 0.9946 - val_loss: 0.4175 - val_accuracy: 0.9350\n",
      "Epoch 4: early stopping\n",
      "Epoch 1/10\n",
      "2000/2000 [==============================] - 33s 17ms/step - loss: 0.0220 - accuracy: 0.9930 - val_loss: 0.3587 - val_accuracy: 0.9375\n",
      "Epoch 2/10\n",
      "2000/2000 [==============================] - 33s 17ms/step - loss: 0.0141 - accuracy: 0.9944 - val_loss: 0.4428 - val_accuracy: 0.9325\n",
      "Epoch 3/10\n",
      "2000/2000 [==============================] - 32s 16ms/step - loss: 0.0191 - accuracy: 0.9939 - val_loss: 0.4116 - val_accuracy: 0.9290\n",
      "Epoch 4/10\n",
      "2000/2000 [==============================] - 34s 17ms/step - loss: 0.0136 - accuracy: 0.9952 - val_loss: 0.4141 - val_accuracy: 0.9325\n",
      "Epoch 4: early stopping\n",
      "63/63 [==============================] - 1s 10ms/step\n",
      "63/63 [==============================] - 1s 8ms/step\n",
      "[4 4 4 ... 3 3 2]\n",
      "Epoch 1/10\n",
      "2000/2000 [==============================] - 35s 18ms/step - loss: 0.0127 - accuracy: 0.9954 - val_loss: 0.5092 - val_accuracy: 0.9340\n",
      "Epoch 2/10\n",
      "2000/2000 [==============================] - 35s 18ms/step - loss: 0.0145 - accuracy: 0.9942 - val_loss: 0.4516 - val_accuracy: 0.9350\n",
      "Epoch 3/10\n",
      "2000/2000 [==============================] - 35s 17ms/step - loss: 0.0135 - accuracy: 0.9948 - val_loss: 0.4420 - val_accuracy: 0.9375\n",
      "Epoch 4/10\n",
      "2000/2000 [==============================] - 34s 17ms/step - loss: 0.0118 - accuracy: 0.9959 - val_loss: 0.4642 - val_accuracy: 0.9365\n",
      "Epoch 5/10\n",
      "2000/2000 [==============================] - 33s 17ms/step - loss: 0.0127 - accuracy: 0.9952 - val_loss: 0.5047 - val_accuracy: 0.9385\n",
      "Epoch 6/10\n",
      "2000/2000 [==============================] - 33s 17ms/step - loss: 0.0148 - accuracy: 0.9950 - val_loss: 0.4875 - val_accuracy: 0.9295\n",
      "Epoch 6: early stopping\n",
      "Epoch 1/10\n",
      "2000/2000 [==============================] - 35s 18ms/step - loss: 0.0147 - accuracy: 0.9949 - val_loss: 0.3371 - val_accuracy: 0.9350\n",
      "Epoch 2/10\n",
      "2000/2000 [==============================] - 34s 17ms/step - loss: 0.0132 - accuracy: 0.9953 - val_loss: 0.3210 - val_accuracy: 0.9340\n",
      "Epoch 3/10\n",
      "2000/2000 [==============================] - 36s 18ms/step - loss: 0.0137 - accuracy: 0.9945 - val_loss: 0.4725 - val_accuracy: 0.9235\n",
      "Epoch 4/10\n",
      "2000/2000 [==============================] - 34s 17ms/step - loss: 0.0129 - accuracy: 0.9951 - val_loss: 0.4717 - val_accuracy: 0.9350\n",
      "Epoch 5/10\n",
      "2000/2000 [==============================] - 34s 17ms/step - loss: 0.0162 - accuracy: 0.9944 - val_loss: 0.3988 - val_accuracy: 0.9335\n",
      "Epoch 5: early stopping\n",
      "63/63 [==============================] - 1s 8ms/step\n",
      "63/63 [==============================] - 0s 6ms/step\n",
      "[4 4 4 ... 3 3 2]\n",
      "Epoch 1/10\n",
      "2000/2000 [==============================] - 35s 17ms/step - loss: 0.0153 - accuracy: 0.9952 - val_loss: 0.5555 - val_accuracy: 0.9290\n",
      "Epoch 2/10\n",
      "2000/2000 [==============================] - 33s 17ms/step - loss: 0.0112 - accuracy: 0.9951 - val_loss: 0.5702 - val_accuracy: 0.9340\n",
      "Epoch 3/10\n",
      "2000/2000 [==============================] - 34s 17ms/step - loss: 0.0097 - accuracy: 0.9965 - val_loss: 0.5087 - val_accuracy: 0.9345\n",
      "Epoch 4/10\n",
      "2000/2000 [==============================] - 34s 17ms/step - loss: 0.0103 - accuracy: 0.9956 - val_loss: 0.5668 - val_accuracy: 0.9310\n",
      "Epoch 5/10\n",
      "2000/2000 [==============================] - 33s 16ms/step - loss: 0.0154 - accuracy: 0.9951 - val_loss: 0.4018 - val_accuracy: 0.9350\n",
      "Epoch 6/10\n",
      "2000/2000 [==============================] - 34s 17ms/step - loss: 0.0105 - accuracy: 0.9959 - val_loss: 0.4503 - val_accuracy: 0.9365\n",
      "Epoch 7/10\n",
      "2000/2000 [==============================] - 35s 17ms/step - loss: 0.0104 - accuracy: 0.9962 - val_loss: 0.4745 - val_accuracy: 0.9365\n",
      "Epoch 8/10\n",
      "2000/2000 [==============================] - 34s 17ms/step - loss: 0.0106 - accuracy: 0.9953 - val_loss: 0.4429 - val_accuracy: 0.9330\n",
      "Epoch 8: early stopping\n",
      "Epoch 1/10\n",
      "2000/2000 [==============================] - 35s 17ms/step - loss: 0.0157 - accuracy: 0.9948 - val_loss: 0.4123 - val_accuracy: 0.9260\n",
      "Epoch 2/10\n",
      "2000/2000 [==============================] - 33s 17ms/step - loss: 0.0134 - accuracy: 0.9951 - val_loss: 0.4424 - val_accuracy: 0.9270\n",
      "Epoch 3/10\n",
      "2000/2000 [==============================] - 33s 16ms/step - loss: 0.0135 - accuracy: 0.9942 - val_loss: 0.3392 - val_accuracy: 0.9335\n",
      "Epoch 4/10\n",
      "2000/2000 [==============================] - 36s 18ms/step - loss: 0.0118 - accuracy: 0.9951 - val_loss: 0.4469 - val_accuracy: 0.9305\n",
      "Epoch 5/10\n",
      "2000/2000 [==============================] - 33s 17ms/step - loss: 0.0108 - accuracy: 0.9959 - val_loss: 0.3952 - val_accuracy: 0.9325\n",
      "Epoch 6/10\n",
      "2000/2000 [==============================] - 35s 18ms/step - loss: 0.0133 - accuracy: 0.9952 - val_loss: 0.4170 - val_accuracy: 0.9345\n",
      "Epoch 6: early stopping\n",
      "63/63 [==============================] - 0s 6ms/step\n",
      "63/63 [==============================] - 0s 7ms/step\n",
      "[4 4 4 ... 3 3 2]\n",
      "Epoch 1/10\n",
      "2000/2000 [==============================] - 34s 17ms/step - loss: 0.0098 - accuracy: 0.9956 - val_loss: 0.6385 - val_accuracy: 0.9335\n",
      "Epoch 2/10\n",
      "2000/2000 [==============================] - 35s 18ms/step - loss: 0.0157 - accuracy: 0.9956 - val_loss: 0.4607 - val_accuracy: 0.9380\n",
      "Epoch 3/10\n",
      "2000/2000 [==============================] - 34s 17ms/step - loss: 0.0099 - accuracy: 0.9959 - val_loss: 0.4838 - val_accuracy: 0.9370\n",
      "Epoch 4/10\n",
      "2000/2000 [==============================] - 35s 17ms/step - loss: 0.0084 - accuracy: 0.9958 - val_loss: 0.5738 - val_accuracy: 0.9355\n",
      "Epoch 5/10\n",
      "2000/2000 [==============================] - 35s 17ms/step - loss: 0.0110 - accuracy: 0.9959 - val_loss: 0.5337 - val_accuracy: 0.9365\n",
      "Epoch 5: early stopping\n",
      "Epoch 1/10\n",
      "2000/2000 [==============================] - 34s 17ms/step - loss: 0.0186 - accuracy: 0.9948 - val_loss: 0.4176 - val_accuracy: 0.9365\n",
      "Epoch 2/10\n",
      "2000/2000 [==============================] - 35s 18ms/step - loss: 0.0123 - accuracy: 0.9951 - val_loss: 0.4736 - val_accuracy: 0.9320\n",
      "Epoch 3/10\n",
      "2000/2000 [==============================] - 34s 17ms/step - loss: 0.0121 - accuracy: 0.9956 - val_loss: 0.4029 - val_accuracy: 0.9345\n",
      "Epoch 4/10\n",
      "2000/2000 [==============================] - 36s 18ms/step - loss: 0.0093 - accuracy: 0.9955 - val_loss: 0.3962 - val_accuracy: 0.9330\n",
      "Epoch 5/10\n",
      "2000/2000 [==============================] - 35s 17ms/step - loss: 0.0126 - accuracy: 0.9952 - val_loss: 0.4704 - val_accuracy: 0.9355\n",
      "Epoch 6/10\n",
      "2000/2000 [==============================] - 35s 18ms/step - loss: 0.0143 - accuracy: 0.9949 - val_loss: 0.3741 - val_accuracy: 0.9295\n",
      "Epoch 7/10\n",
      "2000/2000 [==============================] - 33s 17ms/step - loss: 0.0102 - accuracy: 0.9956 - val_loss: 0.4700 - val_accuracy: 0.9320\n",
      "Epoch 8/10\n",
      "2000/2000 [==============================] - 35s 17ms/step - loss: 0.0108 - accuracy: 0.9959 - val_loss: 0.4455 - val_accuracy: 0.9335\n",
      "Epoch 9/10\n",
      "2000/2000 [==============================] - 34s 17ms/step - loss: 0.0139 - accuracy: 0.9953 - val_loss: 0.4115 - val_accuracy: 0.9310\n",
      "Epoch 9: early stopping\n",
      "63/63 [==============================] - 1s 8ms/step\n",
      "63/63 [==============================] - 0s 7ms/step\n",
      "[4 4 4 ... 3 3 2]\n",
      "Epoch 1/10\n",
      "2000/2000 [==============================] - 34s 17ms/step - loss: 0.0123 - accuracy: 0.9955 - val_loss: 0.4132 - val_accuracy: 0.9385\n",
      "Epoch 2/10\n",
      "2000/2000 [==============================] - 36s 18ms/step - loss: 0.0095 - accuracy: 0.9965 - val_loss: 0.5516 - val_accuracy: 0.9340\n",
      "Epoch 3/10\n",
      "2000/2000 [==============================] - 35s 17ms/step - loss: 0.0115 - accuracy: 0.9961 - val_loss: 0.5241 - val_accuracy: 0.9370\n",
      "Epoch 4/10\n",
      "2000/2000 [==============================] - 35s 18ms/step - loss: 0.0085 - accuracy: 0.9965 - val_loss: 0.5186 - val_accuracy: 0.9345\n",
      "Epoch 4: early stopping\n",
      "Epoch 1/10\n",
      "2000/2000 [==============================] - 35s 18ms/step - loss: 0.0157 - accuracy: 0.9954 - val_loss: 0.3996 - val_accuracy: 0.9365\n",
      "Epoch 2/10\n",
      "2000/2000 [==============================] - 33s 17ms/step - loss: 0.0113 - accuracy: 0.9956 - val_loss: 0.4298 - val_accuracy: 0.9280\n",
      "Epoch 3/10\n",
      "2000/2000 [==============================] - 34s 17ms/step - loss: 0.0133 - accuracy: 0.9952 - val_loss: 0.3745 - val_accuracy: 0.9310\n",
      "Epoch 4/10\n",
      "2000/2000 [==============================] - 35s 17ms/step - loss: 0.0107 - accuracy: 0.9952 - val_loss: 0.3805 - val_accuracy: 0.9300\n",
      "Epoch 5/10\n",
      "2000/2000 [==============================] - 35s 18ms/step - loss: 0.0141 - accuracy: 0.9951 - val_loss: 0.3425 - val_accuracy: 0.9315\n",
      "Epoch 6/10\n",
      "2000/2000 [==============================] - 33s 17ms/step - loss: 0.0088 - accuracy: 0.9963 - val_loss: 0.4512 - val_accuracy: 0.9365\n",
      "Epoch 7/10\n",
      "2000/2000 [==============================] - 35s 18ms/step - loss: 0.0106 - accuracy: 0.9959 - val_loss: 0.4530 - val_accuracy: 0.9315\n",
      "Epoch 8/10\n",
      "2000/2000 [==============================] - 35s 17ms/step - loss: 0.0108 - accuracy: 0.9955 - val_loss: 0.4865 - val_accuracy: 0.9335\n",
      "Epoch 8: early stopping\n",
      "63/63 [==============================] - 1s 8ms/step\n",
      "63/63 [==============================] - 0s 7ms/step\n",
      "[4 4 4 ... 3 3 2]\n",
      "Epoch 1/10\n",
      "2000/2000 [==============================] - 34s 17ms/step - loss: 0.0099 - accuracy: 0.9958 - val_loss: 0.5971 - val_accuracy: 0.9340\n",
      "Epoch 2/10\n",
      "2000/2000 [==============================] - 34s 17ms/step - loss: 0.0105 - accuracy: 0.9961 - val_loss: 0.4968 - val_accuracy: 0.9335\n",
      "Epoch 3/10\n",
      "2000/2000 [==============================] - 34s 17ms/step - loss: 0.0104 - accuracy: 0.9961 - val_loss: 0.5354 - val_accuracy: 0.9325\n",
      "Epoch 4/10\n",
      "2000/2000 [==============================] - 35s 18ms/step - loss: 0.0137 - accuracy: 0.9948 - val_loss: 0.4735 - val_accuracy: 0.9270\n",
      "Epoch 5/10\n",
      "2000/2000 [==============================] - 33s 16ms/step - loss: 0.0108 - accuracy: 0.9956 - val_loss: 0.5126 - val_accuracy: 0.9330\n",
      "Epoch 6/10\n",
      "2000/2000 [==============================] - 35s 17ms/step - loss: 0.0133 - accuracy: 0.9958 - val_loss: 0.5087 - val_accuracy: 0.9290\n",
      "Epoch 7/10\n",
      "2000/2000 [==============================] - 34s 17ms/step - loss: 0.0094 - accuracy: 0.9964 - val_loss: 0.4352 - val_accuracy: 0.9330\n",
      "Epoch 8/10\n",
      "2000/2000 [==============================] - 35s 17ms/step - loss: 0.0069 - accuracy: 0.9964 - val_loss: 0.5596 - val_accuracy: 0.9370\n",
      "Epoch 9/10\n",
      "2000/2000 [==============================] - 35s 17ms/step - loss: 0.0090 - accuracy: 0.9959 - val_loss: 0.4640 - val_accuracy: 0.9315\n",
      "Epoch 10/10\n",
      "2000/2000 [==============================] - 34s 17ms/step - loss: 0.0102 - accuracy: 0.9956 - val_loss: 0.4763 - val_accuracy: 0.9335\n",
      "Epoch 10: early stopping\n",
      "Epoch 1/10\n",
      "2000/2000 [==============================] - 33s 17ms/step - loss: 0.0087 - accuracy: 0.9965 - val_loss: 0.5563 - val_accuracy: 0.9300\n",
      "Epoch 2/10\n",
      "2000/2000 [==============================] - 34s 17ms/step - loss: 0.0121 - accuracy: 0.9958 - val_loss: 0.4322 - val_accuracy: 0.9275\n",
      "Epoch 3/10\n",
      "2000/2000 [==============================] - 34s 17ms/step - loss: 0.0123 - accuracy: 0.9953 - val_loss: 0.4277 - val_accuracy: 0.9340\n",
      "Epoch 4/10\n",
      "2000/2000 [==============================] - 34s 17ms/step - loss: 0.0091 - accuracy: 0.9967 - val_loss: 0.4489 - val_accuracy: 0.9365\n",
      "Epoch 5/10\n",
      "2000/2000 [==============================] - 35s 18ms/step - loss: 0.0099 - accuracy: 0.9957 - val_loss: 0.4549 - val_accuracy: 0.9325\n",
      "Epoch 6/10\n",
      "2000/2000 [==============================] - 35s 17ms/step - loss: 0.0101 - accuracy: 0.9960 - val_loss: 0.3901 - val_accuracy: 0.9315\n",
      "Epoch 7/10\n",
      "2000/2000 [==============================] - 34s 17ms/step - loss: 0.0110 - accuracy: 0.9952 - val_loss: 0.4207 - val_accuracy: 0.9355\n",
      "Epoch 8/10\n",
      "2000/2000 [==============================] - 36s 18ms/step - loss: 0.0070 - accuracy: 0.9962 - val_loss: 0.4265 - val_accuracy: 0.9360\n",
      "Epoch 9/10\n",
      "2000/2000 [==============================] - 36s 18ms/step - loss: 0.0085 - accuracy: 0.9962 - val_loss: 0.3959 - val_accuracy: 0.9330\n",
      "Epoch 9: early stopping\n",
      "63/63 [==============================] - 0s 7ms/step\n",
      "63/63 [==============================] - 0s 7ms/step\n",
      "[4 4 4 ... 3 3 2]\n",
      "Epoch 1/10\n",
      "2000/2000 [==============================] - 36s 18ms/step - loss: 0.0096 - accuracy: 0.9961 - val_loss: 0.5026 - val_accuracy: 0.9340\n",
      "Epoch 2/10\n",
      "2000/2000 [==============================] - 35s 17ms/step - loss: 0.0120 - accuracy: 0.9960 - val_loss: 0.4850 - val_accuracy: 0.9360\n",
      "Epoch 3/10\n",
      "2000/2000 [==============================] - 36s 18ms/step - loss: 0.0159 - accuracy: 0.9957 - val_loss: 0.4216 - val_accuracy: 0.9370\n",
      "Epoch 4/10\n",
      "2000/2000 [==============================] - 35s 17ms/step - loss: 0.0098 - accuracy: 0.9954 - val_loss: 0.5344 - val_accuracy: 0.9330\n",
      "Epoch 5/10\n",
      "2000/2000 [==============================] - 35s 18ms/step - loss: 0.0090 - accuracy: 0.9966 - val_loss: 0.4995 - val_accuracy: 0.9345\n",
      "Epoch 6/10\n",
      "2000/2000 [==============================] - 36s 18ms/step - loss: 0.0077 - accuracy: 0.9966 - val_loss: 0.6181 - val_accuracy: 0.9385\n",
      "Epoch 6: early stopping\n",
      "Epoch 1/10\n",
      "2000/2000 [==============================] - 37s 18ms/step - loss: 0.0106 - accuracy: 0.9960 - val_loss: 0.4013 - val_accuracy: 0.9300\n",
      "Epoch 2/10\n",
      "2000/2000 [==============================] - 39s 19ms/step - loss: 0.0097 - accuracy: 0.9964 - val_loss: 0.4035 - val_accuracy: 0.9330\n",
      "Epoch 3/10\n",
      "2000/2000 [==============================] - 34s 17ms/step - loss: 0.0125 - accuracy: 0.9949 - val_loss: 0.3835 - val_accuracy: 0.9340\n",
      "Epoch 4/10\n",
      "2000/2000 [==============================] - 36s 18ms/step - loss: 0.0066 - accuracy: 0.9969 - val_loss: 0.4935 - val_accuracy: 0.9330\n",
      "Epoch 5/10\n",
      "2000/2000 [==============================] - 35s 17ms/step - loss: 0.0116 - accuracy: 0.9961 - val_loss: 0.4371 - val_accuracy: 0.9310\n",
      "Epoch 6/10\n",
      "2000/2000 [==============================] - 36s 18ms/step - loss: 0.0158 - accuracy: 0.9949 - val_loss: 0.3338 - val_accuracy: 0.9305\n",
      "Epoch 7/10\n",
      "2000/2000 [==============================] - 34s 17ms/step - loss: 0.0117 - accuracy: 0.9961 - val_loss: 0.3761 - val_accuracy: 0.9315\n",
      "Epoch 8/10\n",
      "2000/2000 [==============================] - 35s 18ms/step - loss: 0.0086 - accuracy: 0.9963 - val_loss: 0.3576 - val_accuracy: 0.9345\n",
      "Epoch 9/10\n",
      "2000/2000 [==============================] - 34s 17ms/step - loss: 0.0068 - accuracy: 0.9969 - val_loss: 0.5085 - val_accuracy: 0.9315\n",
      "Epoch 9: early stopping\n",
      "63/63 [==============================] - 1s 10ms/step\n",
      "63/63 [==============================] - 1s 9ms/step\n",
      "[4 4 4 ... 3 3 5]\n",
      "Epoch 1/10\n",
      "2000/2000 [==============================] - 35s 18ms/step - loss: 0.0107 - accuracy: 0.9958 - val_loss: 0.5417 - val_accuracy: 0.9400\n",
      "Epoch 2/10\n",
      "2000/2000 [==============================] - 35s 17ms/step - loss: 0.0121 - accuracy: 0.9953 - val_loss: 0.5252 - val_accuracy: 0.9365\n",
      "Epoch 3/10\n",
      "2000/2000 [==============================] - 34s 17ms/step - loss: 0.0107 - accuracy: 0.9958 - val_loss: 0.4842 - val_accuracy: 0.9375\n",
      "Epoch 4/10\n",
      "2000/2000 [==============================] - 34s 17ms/step - loss: 0.0083 - accuracy: 0.9967 - val_loss: 0.6211 - val_accuracy: 0.9375\n",
      "Epoch 5/10\n",
      "2000/2000 [==============================] - 34s 17ms/step - loss: 0.0097 - accuracy: 0.9961 - val_loss: 0.5362 - val_accuracy: 0.9415\n",
      "Epoch 6/10\n",
      "2000/2000 [==============================] - 34s 17ms/step - loss: 0.0113 - accuracy: 0.9962 - val_loss: 0.4487 - val_accuracy: 0.9355\n",
      "Epoch 7/10\n",
      "2000/2000 [==============================] - 36s 18ms/step - loss: 0.0079 - accuracy: 0.9967 - val_loss: 0.5320 - val_accuracy: 0.9365\n",
      "Epoch 8/10\n",
      "2000/2000 [==============================] - 34s 17ms/step - loss: 0.0084 - accuracy: 0.9967 - val_loss: 0.4694 - val_accuracy: 0.9400\n",
      "Epoch 9/10\n",
      "2000/2000 [==============================] - 36s 18ms/step - loss: 0.0078 - accuracy: 0.9969 - val_loss: 0.5141 - val_accuracy: 0.9335\n",
      "Epoch 9: early stopping\n",
      "Epoch 1/10\n",
      "2000/2000 [==============================] - 35s 18ms/step - loss: 0.0139 - accuracy: 0.9959 - val_loss: 0.3898 - val_accuracy: 0.9320\n",
      "Epoch 2/10\n",
      "2000/2000 [==============================] - 36s 18ms/step - loss: 0.0072 - accuracy: 0.9967 - val_loss: 0.5437 - val_accuracy: 0.9340\n",
      "Epoch 3/10\n",
      "2000/2000 [==============================] - 35s 17ms/step - loss: 0.0074 - accuracy: 0.9965 - val_loss: 0.5106 - val_accuracy: 0.9330\n",
      "Epoch 4/10\n",
      "2000/2000 [==============================] - 37s 19ms/step - loss: 0.0090 - accuracy: 0.9956 - val_loss: 0.5317 - val_accuracy: 0.9265\n",
      "Epoch 4: early stopping\n",
      "63/63 [==============================] - 1s 8ms/step\n",
      "63/63 [==============================] - 0s 6ms/step\n",
      "[4 4 4 ... 3 3 2]\n",
      "Epoch 1/10\n",
      "2000/2000 [==============================] - 35s 17ms/step - loss: 0.0111 - accuracy: 0.9959 - val_loss: 0.5941 - val_accuracy: 0.9360\n",
      "Epoch 2/10\n",
      "2000/2000 [==============================] - 36s 18ms/step - loss: 0.0070 - accuracy: 0.9966 - val_loss: 0.5791 - val_accuracy: 0.9355\n",
      "Epoch 3/10\n",
      "2000/2000 [==============================] - 35s 18ms/step - loss: 0.0077 - accuracy: 0.9962 - val_loss: 0.6644 - val_accuracy: 0.9365\n",
      "Epoch 4/10\n",
      "2000/2000 [==============================] - 37s 18ms/step - loss: 0.0140 - accuracy: 0.9954 - val_loss: 0.4568 - val_accuracy: 0.9365\n",
      "Epoch 5/10\n",
      "2000/2000 [==============================] - 34s 17ms/step - loss: 0.0093 - accuracy: 0.9966 - val_loss: 0.4874 - val_accuracy: 0.9375\n",
      "Epoch 6/10\n",
      "2000/2000 [==============================] - 35s 17ms/step - loss: 0.0067 - accuracy: 0.9967 - val_loss: 0.5734 - val_accuracy: 0.9350\n",
      "Epoch 7/10\n",
      "2000/2000 [==============================] - 34s 17ms/step - loss: 0.0101 - accuracy: 0.9959 - val_loss: 0.5141 - val_accuracy: 0.9340\n",
      "Epoch 7: early stopping\n",
      "Epoch 1/10\n",
      "2000/2000 [==============================] - 35s 17ms/step - loss: 0.0079 - accuracy: 0.9966 - val_loss: 0.5741 - val_accuracy: 0.9355\n",
      "Epoch 2/10\n",
      "2000/2000 [==============================] - 34s 17ms/step - loss: 0.0076 - accuracy: 0.9961 - val_loss: 0.5464 - val_accuracy: 0.9315\n",
      "Epoch 3/10\n",
      "2000/2000 [==============================] - 35s 17ms/step - loss: 0.0087 - accuracy: 0.9958 - val_loss: 0.5741 - val_accuracy: 0.9330\n",
      "Epoch 4/10\n",
      "2000/2000 [==============================] - 34s 17ms/step - loss: 0.0082 - accuracy: 0.9965 - val_loss: 0.6093 - val_accuracy: 0.9300\n",
      "Epoch 5/10\n",
      "2000/2000 [==============================] - 34s 17ms/step - loss: 0.0117 - accuracy: 0.9954 - val_loss: 0.5297 - val_accuracy: 0.9335\n",
      "Epoch 6/10\n",
      "2000/2000 [==============================] - 33s 17ms/step - loss: 0.0061 - accuracy: 0.9973 - val_loss: 0.6494 - val_accuracy: 0.9325\n",
      "Epoch 7/10\n",
      "2000/2000 [==============================] - 33s 17ms/step - loss: 0.0130 - accuracy: 0.9959 - val_loss: 0.4114 - val_accuracy: 0.9300\n",
      "Epoch 8/10\n",
      "2000/2000 [==============================] - 36s 18ms/step - loss: 0.0074 - accuracy: 0.9964 - val_loss: 0.4591 - val_accuracy: 0.9335\n",
      "Epoch 9/10\n",
      "2000/2000 [==============================] - 34s 17ms/step - loss: 0.0085 - accuracy: 0.9962 - val_loss: 0.4763 - val_accuracy: 0.9325\n",
      "Epoch 10/10\n",
      "2000/2000 [==============================] - 35s 17ms/step - loss: 0.0064 - accuracy: 0.9965 - val_loss: 0.5618 - val_accuracy: 0.9350\n",
      "Epoch 10: early stopping\n",
      "63/63 [==============================] - 1s 8ms/step\n",
      "63/63 [==============================] - 0s 6ms/step\n",
      "[4 4 4 ... 3 3 5]\n",
      "Epoch 1/10\n",
      "2000/2000 [==============================] - 33s 16ms/step - loss: 0.0072 - accuracy: 0.9958 - val_loss: 0.5187 - val_accuracy: 0.9350\n",
      "Epoch 2/10\n",
      "2000/2000 [==============================] - 34s 17ms/step - loss: 0.0076 - accuracy: 0.9965 - val_loss: 0.6331 - val_accuracy: 0.9325\n",
      "Epoch 3/10\n",
      "2000/2000 [==============================] - 33s 16ms/step - loss: 0.0080 - accuracy: 0.9967 - val_loss: 0.7629 - val_accuracy: 0.9375\n",
      "Epoch 4/10\n",
      "2000/2000 [==============================] - 33s 17ms/step - loss: 0.0121 - accuracy: 0.9959 - val_loss: 0.5214 - val_accuracy: 0.9310\n",
      "Epoch 4: early stopping\n",
      "Epoch 1/10\n",
      "2000/2000 [==============================] - 34s 17ms/step - loss: 0.0094 - accuracy: 0.9961 - val_loss: 0.4528 - val_accuracy: 0.9320\n",
      "Epoch 2/10\n",
      "2000/2000 [==============================] - 33s 17ms/step - loss: 0.0093 - accuracy: 0.9955 - val_loss: 0.5992 - val_accuracy: 0.9345\n",
      "Epoch 3/10\n",
      "2000/2000 [==============================] - 34s 17ms/step - loss: 0.0220 - accuracy: 0.9956 - val_loss: 0.4883 - val_accuracy: 0.9330\n",
      "Epoch 4/10\n",
      "2000/2000 [==============================] - 35s 17ms/step - loss: 0.0088 - accuracy: 0.9964 - val_loss: 0.5066 - val_accuracy: 0.9330\n",
      "Epoch 4: early stopping\n",
      "63/63 [==============================] - 1s 10ms/step\n",
      "63/63 [==============================] - 1s 8ms/step\n",
      "[4 4 4 ... 3 3 2]\n",
      "Epoch 1/10\n",
      "2000/2000 [==============================] - 33s 16ms/step - loss: 0.0069 - accuracy: 0.9966 - val_loss: 0.5704 - val_accuracy: 0.9360\n",
      "Epoch 2/10\n",
      "2000/2000 [==============================] - 34s 17ms/step - loss: 0.0063 - accuracy: 0.9963 - val_loss: 0.5051 - val_accuracy: 0.9385\n",
      "Epoch 3/10\n",
      "2000/2000 [==============================] - 34s 17ms/step - loss: 0.0121 - accuracy: 0.9952 - val_loss: 0.5511 - val_accuracy: 0.9370\n",
      "Epoch 4/10\n",
      "2000/2000 [==============================] - 33s 16ms/step - loss: 0.0076 - accuracy: 0.9968 - val_loss: 0.5990 - val_accuracy: 0.9370\n",
      "Epoch 5/10\n",
      "2000/2000 [==============================] - 34s 17ms/step - loss: 0.0095 - accuracy: 0.9967 - val_loss: 0.6831 - val_accuracy: 0.9355\n",
      "Epoch 5: early stopping\n",
      "Epoch 1/10\n",
      "2000/2000 [==============================] - 35s 17ms/step - loss: 0.0102 - accuracy: 0.9959 - val_loss: 0.4905 - val_accuracy: 0.9315\n",
      "Epoch 2/10\n",
      "2000/2000 [==============================] - 32s 16ms/step - loss: 0.0046 - accuracy: 0.9973 - val_loss: 0.7117 - val_accuracy: 0.9295\n",
      "Epoch 3/10\n",
      "2000/2000 [==============================] - 34s 17ms/step - loss: 0.0062 - accuracy: 0.9967 - val_loss: 0.5033 - val_accuracy: 0.9365\n",
      "Epoch 4/10\n",
      "2000/2000 [==============================] - 34s 17ms/step - loss: 0.0073 - accuracy: 0.9963 - val_loss: 0.6199 - val_accuracy: 0.9355\n",
      "Epoch 4: early stopping\n",
      "63/63 [==============================] - 1s 8ms/step\n",
      "63/63 [==============================] - 0s 6ms/step\n",
      "[4 4 4 ... 3 3 5]\n",
      "Epoch 1/10\n",
      "2000/2000 [==============================] - 33s 17ms/step - loss: 0.0083 - accuracy: 0.9956 - val_loss: 0.6554 - val_accuracy: 0.9325\n",
      "Epoch 2/10\n",
      "2000/2000 [==============================] - 34s 17ms/step - loss: 0.0172 - accuracy: 0.9954 - val_loss: 0.5796 - val_accuracy: 0.9350\n",
      "Epoch 3/10\n",
      "2000/2000 [==============================] - 35s 18ms/step - loss: 0.0066 - accuracy: 0.9969 - val_loss: 0.5729 - val_accuracy: 0.9390\n",
      "Epoch 4/10\n",
      "2000/2000 [==============================] - 37s 18ms/step - loss: 0.0077 - accuracy: 0.9967 - val_loss: 0.6585 - val_accuracy: 0.9370\n",
      "Epoch 5/10\n",
      "2000/2000 [==============================] - 33s 17ms/step - loss: 0.0148 - accuracy: 0.9967 - val_loss: 0.5873 - val_accuracy: 0.9330\n",
      "Epoch 6/10\n",
      "2000/2000 [==============================] - 35s 18ms/step - loss: 0.0055 - accuracy: 0.9969 - val_loss: 0.6556 - val_accuracy: 0.9375\n",
      "Epoch 6: early stopping\n",
      "Epoch 1/10\n",
      "2000/2000 [==============================] - 35s 18ms/step - loss: 0.0097 - accuracy: 0.9956 - val_loss: 0.4944 - val_accuracy: 0.9365\n",
      "Epoch 2/10\n",
      "2000/2000 [==============================] - 35s 17ms/step - loss: 0.0161 - accuracy: 0.9953 - val_loss: 0.4081 - val_accuracy: 0.9315\n",
      "Epoch 3/10\n",
      "2000/2000 [==============================] - 35s 18ms/step - loss: 0.0079 - accuracy: 0.9964 - val_loss: 0.4492 - val_accuracy: 0.9360\n",
      "Epoch 4/10\n",
      "2000/2000 [==============================] - 34s 17ms/step - loss: 0.0064 - accuracy: 0.9969 - val_loss: 0.7439 - val_accuracy: 0.9355\n",
      "Epoch 5/10\n",
      "2000/2000 [==============================] - 34s 17ms/step - loss: 0.0073 - accuracy: 0.9964 - val_loss: 0.5073 - val_accuracy: 0.9335\n",
      "Epoch 5: early stopping\n",
      "63/63 [==============================] - 1s 8ms/step\n",
      "63/63 [==============================] - 0s 6ms/step\n",
      "[4 4 4 ... 3 3 5]\n",
      "Epoch 1/10\n",
      "2000/2000 [==============================] - 36s 18ms/step - loss: 0.0056 - accuracy: 0.9968 - val_loss: 0.5717 - val_accuracy: 0.9390\n",
      "Epoch 2/10\n",
      "2000/2000 [==============================] - 34s 17ms/step - loss: 0.0170 - accuracy: 0.9959 - val_loss: 0.4482 - val_accuracy: 0.9305\n",
      "Epoch 3/10\n",
      "2000/2000 [==============================] - 35s 17ms/step - loss: 0.0092 - accuracy: 0.9961 - val_loss: 0.6436 - val_accuracy: 0.9360\n",
      "Epoch 4/10\n",
      "2000/2000 [==============================] - 34s 17ms/step - loss: 0.0079 - accuracy: 0.9962 - val_loss: 0.5695 - val_accuracy: 0.9365\n",
      "Epoch 5/10\n",
      "2000/2000 [==============================] - 36s 18ms/step - loss: 0.0075 - accuracy: 0.9963 - val_loss: 0.4492 - val_accuracy: 0.9370\n",
      "Epoch 5: early stopping\n",
      "Epoch 1/10\n",
      "2000/2000 [==============================] - 35s 17ms/step - loss: 0.0120 - accuracy: 0.9952 - val_loss: 0.5940 - val_accuracy: 0.9340\n",
      "Epoch 2/10\n",
      "2000/2000 [==============================] - 36s 18ms/step - loss: 0.0084 - accuracy: 0.9962 - val_loss: 0.4473 - val_accuracy: 0.9335\n",
      "Epoch 3/10\n",
      "2000/2000 [==============================] - 34s 17ms/step - loss: 0.0068 - accuracy: 0.9966 - val_loss: 0.6428 - val_accuracy: 0.9345\n",
      "Epoch 4/10\n",
      "2000/2000 [==============================] - 35s 17ms/step - loss: 0.0101 - accuracy: 0.9959 - val_loss: 0.4837 - val_accuracy: 0.9350\n",
      "Epoch 5/10\n",
      "2000/2000 [==============================] - 33s 17ms/step - loss: 0.0076 - accuracy: 0.9966 - val_loss: 0.5100 - val_accuracy: 0.9405\n",
      "Epoch 5: early stopping\n",
      "63/63 [==============================] - 0s 7ms/step\n",
      "63/63 [==============================] - 0s 7ms/step\n",
      "[4 4 4 ... 3 3 5]\n",
      "Epoch 1/10\n",
      "2000/2000 [==============================] - 35s 17ms/step - loss: 0.0180 - accuracy: 0.9958 - val_loss: 0.4216 - val_accuracy: 0.9355\n",
      "Epoch 2/10\n",
      "2000/2000 [==============================] - 34s 17ms/step - loss: 0.0089 - accuracy: 0.9962 - val_loss: 0.5160 - val_accuracy: 0.9370\n",
      "Epoch 3/10\n",
      "2000/2000 [==============================] - 36s 18ms/step - loss: 0.0075 - accuracy: 0.9965 - val_loss: 0.5743 - val_accuracy: 0.9345\n",
      "Epoch 4/10\n",
      "2000/2000 [==============================] - 34s 17ms/step - loss: 0.0102 - accuracy: 0.9965 - val_loss: 0.4002 - val_accuracy: 0.9400\n",
      "Epoch 5/10\n",
      "2000/2000 [==============================] - 34s 17ms/step - loss: 0.0147 - accuracy: 0.9964 - val_loss: 0.5292 - val_accuracy: 0.9345\n",
      "Epoch 6/10\n",
      "2000/2000 [==============================] - 34s 17ms/step - loss: 0.0095 - accuracy: 0.9969 - val_loss: 0.5203 - val_accuracy: 0.9345\n",
      "Epoch 7/10\n",
      "2000/2000 [==============================] - 34s 17ms/step - loss: 0.0071 - accuracy: 0.9967 - val_loss: 0.6889 - val_accuracy: 0.9335\n",
      "Epoch 7: early stopping\n",
      "Epoch 1/10\n",
      "2000/2000 [==============================] - 35s 18ms/step - loss: 0.0116 - accuracy: 0.9958 - val_loss: 0.4444 - val_accuracy: 0.9350\n",
      "Epoch 2/10\n",
      "2000/2000 [==============================] - 34s 17ms/step - loss: 0.0071 - accuracy: 0.9969 - val_loss: 0.5720 - val_accuracy: 0.9360\n",
      "Epoch 3/10\n",
      "2000/2000 [==============================] - 35s 17ms/step - loss: 0.0072 - accuracy: 0.9964 - val_loss: 0.6154 - val_accuracy: 0.9320\n",
      "Epoch 4/10\n",
      "2000/2000 [==============================] - 36s 18ms/step - loss: 0.0092 - accuracy: 0.9953 - val_loss: 0.5078 - val_accuracy: 0.9355\n",
      "Epoch 4: early stopping\n",
      "63/63 [==============================] - 0s 6ms/step\n",
      "63/63 [==============================] - 0s 7ms/step\n",
      "[4 4 4 ... 3 3 2]\n",
      "Epoch 1/10\n",
      "2000/2000 [==============================] - 35s 18ms/step - loss: 0.0163 - accuracy: 0.9962 - val_loss: 0.4748 - val_accuracy: 0.9345\n",
      "Epoch 2/10\n",
      "2000/2000 [==============================] - 33s 17ms/step - loss: 0.0054 - accuracy: 0.9970 - val_loss: 0.5141 - val_accuracy: 0.9325\n",
      "Epoch 3/10\n",
      "2000/2000 [==============================] - 35s 17ms/step - loss: 0.0052 - accuracy: 0.9974 - val_loss: 0.5701 - val_accuracy: 0.9365\n",
      "Epoch 4/10\n",
      "2000/2000 [==============================] - 35s 17ms/step - loss: 0.0100 - accuracy: 0.9958 - val_loss: 0.6373 - val_accuracy: 0.9355\n",
      "Epoch 4: early stopping\n",
      "Epoch 1/10\n",
      "2000/2000 [==============================] - 34s 17ms/step - loss: 0.0114 - accuracy: 0.9959 - val_loss: 0.4737 - val_accuracy: 0.9370\n",
      "Epoch 2/10\n",
      "2000/2000 [==============================] - 33s 17ms/step - loss: 0.0098 - accuracy: 0.9967 - val_loss: 0.5647 - val_accuracy: 0.9365\n",
      "Epoch 3/10\n",
      "2000/2000 [==============================] - 35s 18ms/step - loss: 0.0082 - accuracy: 0.9959 - val_loss: 0.5893 - val_accuracy: 0.9350\n",
      "Epoch 4/10\n",
      "2000/2000 [==============================] - 33s 17ms/step - loss: 0.0070 - accuracy: 0.9963 - val_loss: 0.5985 - val_accuracy: 0.9335\n",
      "Epoch 4: early stopping\n",
      "63/63 [==============================] - 1s 10ms/step\n",
      "63/63 [==============================] - 0s 7ms/step\n",
      "[4 4 4 ... 3 3 5]\n"
     ]
    }
   ],
   "source": [
    "accuracy_psuedo, accuracy_quant, precision_psuedo, precision_quant, f1_psuedo, f1_quant = multiruns(model_psuedo, model_quant, n_runs = 20, epochs = 10)"
   ]
  },
  {
   "cell_type": "code",
   "execution_count": null,
   "metadata": {
    "colab": {
     "base_uri": "https://localhost:8080/"
    },
    "id": "po8EhXDvFzEa",
    "outputId": "1ffc2bed-12d8-47ef-938a-759d27720deb"
   },
   "outputs": [
    {
     "name": "stderr",
     "output_type": "stream",
     "text": [
      "WARNING:matplotlib.legend:No artists with labels found to put in legend.  Note that artists whose label start with an underscore are ignored when legend() is called with no argument.\n"
     ]
    },
    {
     "data": {
      "text/plain": [
       "Text(0.5, 1.0, 'Accuracy Score')"
      ]
     },
     "execution_count": 105,
     "metadata": {},
     "output_type": "execute_result"
    },
    {
     "data": {
      "image/png": "[encoded data removed]",
      "text/plain": [
       "<Figure size 768x576 with 1 Axes>"
      ]
     },
     "metadata": {},
     "output_type": "display_data"
    }
   ],
   "source": [
    "plt.figure(dpi = 120)\n",
    "plt.plot(accuracy_psuedo, c = 'r')\n",
    "plt.plot(accuracy_quant, c = 'b')\n",
    "plt.legend()\n",
    "plt.title('Accuracy Score')"
   ]
  },
  {
   "cell_type": "code",
   "execution_count": null,
   "metadata": {
    "colab": {
     "base_uri": "https://localhost:8080/",
     "height": 594
    },
    "id": "rQ7VVr5TFzlb",
    "outputId": "f3477dde-b87a-4042-8ad8-8413d8ecc88c"
   },
   "outputs": [
    {
     "name": "stderr",
     "output_type": "stream",
     "text": [
      "WARNING:matplotlib.legend:No artists with labels found to put in legend.  Note that artists whose label start with an underscore are ignored when legend() is called with no argument.\n"
     ]
    },
    {
     "data": {
      "text/plain": [
       "Text(0.5, 1.0, 'Precision Score')"
      ]
     },
     "execution_count": 106,
     "metadata": {},
     "output_type": "execute_result"
    },
    {
     "data": {
      "image/png": "[encoded data removed]",
      "text/plain": [
       "<Figure size 768x576 with 1 Axes>"
      ]
     },
     "metadata": {},
     "output_type": "display_data"
    }
   ],
   "source": [
    "plt.figure(dpi = 120)\n",
    "plt.plot(precision_psuedo, c = 'r')\n",
    "plt.plot(precision_quant, c = 'b')\n",
    "plt.legend()\n",
    "plt.title('Precision Score')"
   ]
  },
  {
   "cell_type": "code",
   "execution_count": null,
   "metadata": {
    "colab": {
     "base_uri": "https://localhost:8080/",
     "height": 531
    },
    "id": "9ckg7lTwF0AR",
    "outputId": "fa86f40c-4d37-4ddb-ea1d-01b838653ac8"
   },
   "outputs": [
    {
     "data": {
      "text/plain": [
       "<matplotlib.legend.Legend at 0x7f22fc7a6080>"
      ]
     },
     "execution_count": 107,
     "metadata": {},
     "output_type": "execute_result"
    },
    {
     "data": {
      "image/png": "[encoded data removed]",
      "text/plain": [
       "<Figure size 768x576 with 1 Axes>"
      ]
     },
     "metadata": {},
     "output_type": "display_data"
    }
   ],
   "source": [
    "plt.figure(dpi = 120)\n",
    "plt.plot(f1_psuedo, c = 'r')\n",
    "plt.plot(f1_quant, c = 'b')\n",
    "plt.legend('F1 Score')"
   ]
  }
 ],
 "metadata": {
  "accelerator": "GPU",
  "colab": {
   "provenance": []
  },
  "gpuClass": "standard",
  "kernelspec": {
   "display_name": "Python 3",
   "language": "python",
   "name": "python3"
  },
  "language_info": {
   "codemirror_mode": {
    "name": "ipython",
    "version": 3
   },
   "file_extension": ".py",
   "mimetype": "text/x-python",
   "name": "python",
   "nbconvert_exporter": "python",
   "pygments_lexer": "ipython3",
   "version": "3.8.5"
  }
 },
 "nbformat": 4,
 "nbformat_minor": 1
}
